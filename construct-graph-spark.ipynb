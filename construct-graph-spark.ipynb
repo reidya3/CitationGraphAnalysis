{
 "cells": [
  {
   "cell_type": "code",
   "execution_count": 47,
   "id": "7a9884ae",
   "metadata": {},
   "outputs": [],
   "source": [
    "from pyspark.sql import functions as F\n",
    "from pyspark.sql.functions import concat, col, lit, split"
   ]
  },
  {
   "cell_type": "code",
   "execution_count": 2,
   "id": "57dfe963",
   "metadata": {},
   "outputs": [],
   "source": [
    "from pyspark.sql import SparkSession\n",
    "\n",
    "spark = SparkSession.builder \\\n",
    "  .appName('Construct Spark Graph')\\\n",
    "  .getOrCreate()"
   ]
  },
  {
   "cell_type": "code",
   "execution_count": 24,
   "id": "88cfa900",
   "metadata": {},
   "outputs": [],
   "source": [
    "import os\n",
    "import glob\n",
    "import pandas as pd\n",
    "os.chdir(\"data/doras/\")\n",
    "\n",
    "extension = 'csv'\n",
    "all_filenames = [i for i in glob.glob('*.{}'.format(extension))]\n",
    "\n",
    "#combine all files in the list\n",
    "combined_csv = pd.concat([pd.read_csv(f) for f in all_filenames ])\n",
    "#export to csv\n",
    "combined_csv.to_csv( \"combined_csv.csv\", index=False, encoding='utf-8-sig')"
   ]
  },
  {
   "cell_type": "code",
   "execution_count": 26,
   "id": "538a341e",
   "metadata": {},
   "outputs": [],
   "source": [
    "df_dcu = spark.read.csv(\"data/doras/combined_csv.csv\", header=True)"
   ]
  },
  {
   "cell_type": "code",
   "execution_count": 29,
   "id": "552f0dbd",
   "metadata": {},
   "outputs": [],
   "source": [
    "df_sub = df_dcu['Publication Title', 'Uncontrolled keywords']"
   ]
  },
  {
   "cell_type": "code",
   "execution_count": 30,
   "id": "c24df13b",
   "metadata": {},
   "outputs": [
    {
     "name": "stdout",
     "output_type": "stream",
     "text": [
      "root\n",
      " |-- Publication Title: string (nullable = true)\n",
      " |-- Uncontrolled keywords: string (nullable = true)\n",
      "\n"
     ]
    }
   ],
   "source": [
    "df_sub.printSchema()"
   ]
  },
  {
   "cell_type": "code",
   "execution_count": 37,
   "id": "7b7ab221",
   "metadata": {},
   "outputs": [],
   "source": [
    "df_dup_drop = df_sub.dropDuplicates()"
   ]
  },
  {
   "cell_type": "code",
   "execution_count": 38,
   "id": "25f2913d",
   "metadata": {},
   "outputs": [
    {
     "data": {
      "text/html": [
       "<div>\n",
       "<style scoped>\n",
       "    .dataframe tbody tr th:only-of-type {\n",
       "        vertical-align: middle;\n",
       "    }\n",
       "\n",
       "    .dataframe tbody tr th {\n",
       "        vertical-align: top;\n",
       "    }\n",
       "\n",
       "    .dataframe thead th {\n",
       "        text-align: right;\n",
       "    }\n",
       "</style>\n",
       "<table border=\"1\" class=\"dataframe\">\n",
       "  <thead>\n",
       "    <tr style=\"text-align: right;\">\n",
       "      <th></th>\n",
       "      <th>Publication Title</th>\n",
       "      <th>Uncontrolled keywords</th>\n",
       "    </tr>\n",
       "  </thead>\n",
       "  <tbody>\n",
       "    <tr>\n",
       "      <th>0</th>\n",
       "      <td>Dublin City University participation in the VT...</td>\n",
       "      <td>Video captions</td>\n",
       "    </tr>\n",
       "    <tr>\n",
       "      <th>1</th>\n",
       "      <td>Automated murmurs: the social mobile tourist a...</td>\n",
       "      <td>social networks;</td>\n",
       "    </tr>\n",
       "    <tr>\n",
       "      <th>2</th>\n",
       "      <td>The ADAPT bilingual document alignment system ...</td>\n",
       "      <td>None</td>\n",
       "    </tr>\n",
       "    <tr>\n",
       "      <th>3</th>\n",
       "      <td>DCU at MMM 2013 video browser showdown.</td>\n",
       "      <td>video browser showdown</td>\n",
       "    </tr>\n",
       "    <tr>\n",
       "      <th>4</th>\n",
       "      <td>TennisSense: a multi-sensory approach to perfo...</td>\n",
       "      <td>sensors; tennis;</td>\n",
       "    </tr>\n",
       "    <tr>\n",
       "      <th>...</th>\n",
       "      <td>...</td>\n",
       "      <td>...</td>\n",
       "    </tr>\n",
       "    <tr>\n",
       "      <th>1469</th>\n",
       "      <td>Mulsemedia in telecommunication and networking...</td>\n",
       "      <td>Mulsemedia; Technology Enhanced Learning;</td>\n",
       "    </tr>\n",
       "    <tr>\n",
       "      <th>1470</th>\n",
       "      <td>Part-of-speech tagging of code-mixed social me...</td>\n",
       "      <td>None</td>\n",
       "    </tr>\n",
       "    <tr>\n",
       "      <th>1471</th>\n",
       "      <td>Urban enterprise: a review of smart city frame...</td>\n",
       "      <td>Smart City; Enterprise Architecture; Enterpris...</td>\n",
       "    </tr>\n",
       "    <tr>\n",
       "      <th>1472</th>\n",
       "      <td>An industrial case study to improve the onboar...</td>\n",
       "      <td>None</td>\n",
       "    </tr>\n",
       "    <tr>\n",
       "      <th>1473</th>\n",
       "      <td>An exploration of individual personality types...</td>\n",
       "      <td>Software Developers Personalities; Personality...</td>\n",
       "    </tr>\n",
       "  </tbody>\n",
       "</table>\n",
       "<p>1474 rows × 2 columns</p>\n",
       "</div>"
      ],
      "text/plain": [
       "                                      Publication Title  \\\n",
       "0     Dublin City University participation in the VT...   \n",
       "1     Automated murmurs: the social mobile tourist a...   \n",
       "2     The ADAPT bilingual document alignment system ...   \n",
       "3               DCU at MMM 2013 video browser showdown.   \n",
       "4     TennisSense: a multi-sensory approach to perfo...   \n",
       "...                                                 ...   \n",
       "1469  Mulsemedia in telecommunication and networking...   \n",
       "1470  Part-of-speech tagging of code-mixed social me...   \n",
       "1471  Urban enterprise: a review of smart city frame...   \n",
       "1472  An industrial case study to improve the onboar...   \n",
       "1473  An exploration of individual personality types...   \n",
       "\n",
       "                                  Uncontrolled keywords  \n",
       "0                                        Video captions  \n",
       "1                                      social networks;  \n",
       "2                                                  None  \n",
       "3                                video browser showdown  \n",
       "4                                      sensors; tennis;  \n",
       "...                                                 ...  \n",
       "1469          Mulsemedia; Technology Enhanced Learning;  \n",
       "1470                                               None  \n",
       "1471  Smart City; Enterprise Architecture; Enterpris...  \n",
       "1472                                               None  \n",
       "1473  Software Developers Personalities; Personality...  \n",
       "\n",
       "[1474 rows x 2 columns]"
      ]
     },
     "execution_count": 38,
     "metadata": {},
     "output_type": "execute_result"
    }
   ],
   "source": [
    "df_dup_drop.toPandas()"
   ]
  },
  {
   "cell_type": "code",
   "execution_count": 39,
   "id": "90cb7f2b",
   "metadata": {},
   "outputs": [],
   "source": [
    "df_dup_drop = df_dup_drop.filter(df_dup_drop['Uncontrolled keywords'] != 'None')"
   ]
  },
  {
   "cell_type": "code",
   "execution_count": 40,
   "id": "c959b616",
   "metadata": {},
   "outputs": [
    {
     "data": {
      "text/html": [
       "<div>\n",
       "<style scoped>\n",
       "    .dataframe tbody tr th:only-of-type {\n",
       "        vertical-align: middle;\n",
       "    }\n",
       "\n",
       "    .dataframe tbody tr th {\n",
       "        vertical-align: top;\n",
       "    }\n",
       "\n",
       "    .dataframe thead th {\n",
       "        text-align: right;\n",
       "    }\n",
       "</style>\n",
       "<table border=\"1\" class=\"dataframe\">\n",
       "  <thead>\n",
       "    <tr style=\"text-align: right;\">\n",
       "      <th></th>\n",
       "      <th>Publication Title</th>\n",
       "      <th>Uncontrolled keywords</th>\n",
       "    </tr>\n",
       "  </thead>\n",
       "  <tbody>\n",
       "    <tr>\n",
       "      <th>0</th>\n",
       "      <td>Dublin City University participation in the VT...</td>\n",
       "      <td>Video captions</td>\n",
       "    </tr>\n",
       "    <tr>\n",
       "      <th>1</th>\n",
       "      <td>Automated murmurs: the social mobile tourist a...</td>\n",
       "      <td>social networks;</td>\n",
       "    </tr>\n",
       "    <tr>\n",
       "      <th>2</th>\n",
       "      <td>DCU at MMM 2013 video browser showdown.</td>\n",
       "      <td>video browser showdown</td>\n",
       "    </tr>\n",
       "    <tr>\n",
       "      <th>3</th>\n",
       "      <td>TennisSense: a multi-sensory approach to perfo...</td>\n",
       "      <td>sensors; tennis;</td>\n",
       "    </tr>\n",
       "    <tr>\n",
       "      <th>4</th>\n",
       "      <td>A methodology for validating diversity in synt...</td>\n",
       "      <td>Time series; Forecasting; Time Series Predicti...</td>\n",
       "    </tr>\n",
       "    <tr>\n",
       "      <th>...</th>\n",
       "      <td>...</td>\n",
       "      <td>...</td>\n",
       "    </tr>\n",
       "    <tr>\n",
       "      <th>926</th>\n",
       "      <td>Nonlinearity reduction of manifolds using Gaus...</td>\n",
       "      <td>Computer vision; Principal Component Analysis;...</td>\n",
       "    </tr>\n",
       "    <tr>\n",
       "      <th>927</th>\n",
       "      <td>Overview of NTCIR-13 Lifelog-2 Task.</td>\n",
       "      <td>lifelog; test collection; information retrieva...</td>\n",
       "    </tr>\n",
       "    <tr>\n",
       "      <th>928</th>\n",
       "      <td>Mulsemedia in telecommunication and networking...</td>\n",
       "      <td>Mulsemedia; Technology Enhanced Learning;</td>\n",
       "    </tr>\n",
       "    <tr>\n",
       "      <th>929</th>\n",
       "      <td>Urban enterprise: a review of smart city frame...</td>\n",
       "      <td>Smart City; Enterprise Architecture; Enterpris...</td>\n",
       "    </tr>\n",
       "    <tr>\n",
       "      <th>930</th>\n",
       "      <td>An exploration of individual personality types...</td>\n",
       "      <td>Software Developers Personalities; Personality...</td>\n",
       "    </tr>\n",
       "  </tbody>\n",
       "</table>\n",
       "<p>931 rows × 2 columns</p>\n",
       "</div>"
      ],
      "text/plain": [
       "                                     Publication Title  \\\n",
       "0    Dublin City University participation in the VT...   \n",
       "1    Automated murmurs: the social mobile tourist a...   \n",
       "2              DCU at MMM 2013 video browser showdown.   \n",
       "3    TennisSense: a multi-sensory approach to perfo...   \n",
       "4    A methodology for validating diversity in synt...   \n",
       "..                                                 ...   \n",
       "926  Nonlinearity reduction of manifolds using Gaus...   \n",
       "927               Overview of NTCIR-13 Lifelog-2 Task.   \n",
       "928  Mulsemedia in telecommunication and networking...   \n",
       "929  Urban enterprise: a review of smart city frame...   \n",
       "930  An exploration of individual personality types...   \n",
       "\n",
       "                                 Uncontrolled keywords  \n",
       "0                                       Video captions  \n",
       "1                                     social networks;  \n",
       "2                               video browser showdown  \n",
       "3                                     sensors; tennis;  \n",
       "4    Time series; Forecasting; Time Series Predicti...  \n",
       "..                                                 ...  \n",
       "926  Computer vision; Principal Component Analysis;...  \n",
       "927  lifelog; test collection; information retrieva...  \n",
       "928          Mulsemedia; Technology Enhanced Learning;  \n",
       "929  Smart City; Enterprise Architecture; Enterpris...  \n",
       "930  Software Developers Personalities; Personality...  \n",
       "\n",
       "[931 rows x 2 columns]"
      ]
     },
     "execution_count": 40,
     "metadata": {},
     "output_type": "execute_result"
    }
   ],
   "source": [
    "#df_dup_drop.toPandas()\n",
    "df_dup_drop = df_dup_drop.withColumn(\"Uncontrolled keywords\", trim(df['Uncontrolled keywords']))"
   ]
  },
  {
   "cell_type": "code",
   "execution_count": 78,
   "id": "d8d1fed8",
   "metadata": {},
   "outputs": [
    {
     "data": {
      "text/plain": [
       "\"\\nfor keyword in dataCollect:\\n    if str(keyword) != 'None':\\n        for category in df_dup_drop.select(split(df_dup_drop['Uncontrolled keywords'], ';')).collect():\\n            #category = category.strip()\\n            if category not in keywords:\\n                keywords.append(category)\\n\""
      ]
     },
     "execution_count": 78,
     "metadata": {},
     "output_type": "execute_result"
    }
   ],
   "source": [
    "keywords = []\n",
    "#split_col = pyspark.sql.functions.split(df_dup_drop['Uncontrolled keywords'], ';')\n",
    "dataCollect = df_dup_drop.select(split(df_dup_drop['Uncontrolled keywords'], ';')).collect()\n",
    "'''\n",
    "for keyword in dataCollect:\n",
    "    if str(keyword) != 'None':\n",
    "        for category in df_dup_drop.select(split(df_dup_drop['Uncontrolled keywords'], ';')).collect():\n",
    "            #category = category.strip()\n",
    "            if category not in keywords:\n",
    "                keywords.append(category)\n",
    "'''\n"
   ]
  },
  {
   "cell_type": "code",
   "execution_count": 65,
   "id": "13ea8fa7",
   "metadata": {},
   "outputs": [],
   "source": [
    "#df_dup_drop.select(split(df_dup_drop['Uncontrolled keywords'], ';')).collect()"
   ]
  },
  {
   "cell_type": "code",
   "execution_count": 84,
   "id": "d737889d",
   "metadata": {},
   "outputs": [
    {
     "data": {
      "text/plain": [
       "Row(split(Uncontrolled keywords, ;, -1)=['sensors', ' tennis', ''])"
      ]
     },
     "execution_count": 84,
     "metadata": {},
     "output_type": "execute_result"
    }
   ],
   "source": [
    "dataCollect[3]"
   ]
  },
  {
   "cell_type": "code",
   "execution_count": 85,
   "id": "92668875",
   "metadata": {},
   "outputs": [
    {
     "data": {
      "text/plain": [
       "1"
      ]
     },
     "execution_count": 85,
     "metadata": {},
     "output_type": "execute_result"
    }
   ],
   "source": [
    "len(dataCollect[3])"
   ]
  },
  {
   "cell_type": "code",
   "execution_count": null,
   "id": "dc1a9ce1",
   "metadata": {},
   "outputs": [],
   "source": []
  }
 ],
 "metadata": {
  "kernelspec": {
   "display_name": "Python 3 (ipykernel)",
   "language": "python",
   "name": "python3"
  },
  "language_info": {
   "codemirror_mode": {
    "name": "ipython",
    "version": 3
   },
   "file_extension": ".py",
   "mimetype": "text/x-python",
   "name": "python",
   "nbconvert_exporter": "python",
   "pygments_lexer": "ipython3",
   "version": "3.8.12"
  }
 },
 "nbformat": 4,
 "nbformat_minor": 5
}
