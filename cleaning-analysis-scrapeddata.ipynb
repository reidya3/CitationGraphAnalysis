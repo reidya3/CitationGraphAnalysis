{
 "cells": [
  {
   "cell_type": "code",
   "execution_count": 2,
   "id": "f11c932f",
   "metadata": {},
   "outputs": [
    {
     "name": "stdout",
     "output_type": "stream",
     "text": [
      "Imported basic libraries!\n"
     ]
    }
   ],
   "source": [
    "import pandas as pd\n",
    "import numpy as np\n",
    "import seaborn as sns\n",
    "import matplotlib.pyplot as plt\n",
    "print(\"Imported basic libraries!\")"
   ]
  },
  {
   "cell_type": "code",
   "execution_count": 5,
   "id": "17343a08",
   "metadata": {},
   "outputs": [],
   "source": [
    "df = pd.read_csv('data/Scrape/final.csv')"
   ]
  },
  {
   "cell_type": "code",
   "execution_count": 6,
   "id": "01035e8f",
   "metadata": {},
   "outputs": [
    {
     "data": {
      "text/html": [
       "<div>\n",
       "<style scoped>\n",
       "    .dataframe tbody tr th:only-of-type {\n",
       "        vertical-align: middle;\n",
       "    }\n",
       "\n",
       "    .dataframe tbody tr th {\n",
       "        vertical-align: top;\n",
       "    }\n",
       "\n",
       "    .dataframe thead th {\n",
       "        text-align: right;\n",
       "    }\n",
       "</style>\n",
       "<table border=\"1\" class=\"dataframe\">\n",
       "  <thead>\n",
       "    <tr style=\"text-align: right;\">\n",
       "      <th></th>\n",
       "      <th>Title</th>\n",
       "      <th>Citation</th>\n",
       "      <th>Conference</th>\n",
       "      <th>Publisher</th>\n",
       "      <th>Journal</th>\n",
       "      <th>Date</th>\n",
       "      <th>Authors</th>\n",
       "      <th>Abstract</th>\n",
       "      <th>AuthorDCU</th>\n",
       "    </tr>\n",
       "  </thead>\n",
       "  <tbody>\n",
       "    <tr>\n",
       "      <th>0</th>\n",
       "      <td>Efficient cube construction for smart city data</td>\n",
       "      <td>10</td>\n",
       "      <td>Unknown</td>\n",
       "      <td>CEUR-WS. org</td>\n",
       "      <td>Unknown</td>\n",
       "      <td>2016</td>\n",
       "      <td>Michael Scriney, Mark Roantree</td>\n",
       "      <td>To deliver powerful smart city environments, t...</td>\n",
       "      <td>Michael Scriney</td>\n",
       "    </tr>\n",
       "    <tr>\n",
       "      <th>1</th>\n",
       "      <td>Generating cubes from smart city web data</td>\n",
       "      <td>7</td>\n",
       "      <td>Proceedings of the Australasian Computer Scien...</td>\n",
       "      <td>ACM</td>\n",
       "      <td>Unknown</td>\n",
       "      <td>2017</td>\n",
       "      <td>Michael Scriney, Martin F O'Connor, Mark Roantree</td>\n",
       "      <td>A smart city necessitates the incorporation of...</td>\n",
       "      <td>Michael Scriney</td>\n",
       "    </tr>\n",
       "    <tr>\n",
       "      <th>2</th>\n",
       "      <td>Automating Data Mart Construction from Semi-st...</td>\n",
       "      <td>6</td>\n",
       "      <td>Unknown</td>\n",
       "      <td>Oxford University Press</td>\n",
       "      <td>The Computer Journal</td>\n",
       "      <td>2018</td>\n",
       "      <td>Michael Scriney, Suzanne McCarthy, Andrew McCa...</td>\n",
       "      <td>The global food and agricultural industry has ...</td>\n",
       "      <td>Michael Scriney</td>\n",
       "    </tr>\n",
       "    <tr>\n",
       "      <th>3</th>\n",
       "      <td>Predicting customer churn for insurance data</td>\n",
       "      <td>4</td>\n",
       "      <td>International Conference on Big Data Analytics...</td>\n",
       "      <td>Springer, Cham</td>\n",
       "      <td>Unknown</td>\n",
       "      <td>2020</td>\n",
       "      <td>Michael Scriney, Dongyun Nie, Mark Roantree</td>\n",
       "      <td>Most organisations employ customer relationshi...</td>\n",
       "      <td>Michael Scriney</td>\n",
       "    </tr>\n",
       "    <tr>\n",
       "      <th>4</th>\n",
       "      <td>Attention Based Video Summaries of Live Online...</td>\n",
       "      <td>3</td>\n",
       "      <td>AAAI-2021 Workshop on AI Education: \"Imagining...</td>\n",
       "      <td>Unknown</td>\n",
       "      <td>Unknown</td>\n",
       "      <td>2021</td>\n",
       "      <td>Hyowon Lee, Mingming Liu, Hamza Riaz, Navaneet...</td>\n",
       "      <td>This paper describes a system developed to hel...</td>\n",
       "      <td>Michael Scriney</td>\n",
       "    </tr>\n",
       "    <tr>\n",
       "      <th>...</th>\n",
       "      <td>...</td>\n",
       "      <td>...</td>\n",
       "      <td>...</td>\n",
       "      <td>...</td>\n",
       "      <td>...</td>\n",
       "      <td>...</td>\n",
       "      <td>...</td>\n",
       "      <td>...</td>\n",
       "      <td>...</td>\n",
       "    </tr>\n",
       "    <tr>\n",
       "      <th>4840</th>\n",
       "      <td>Evaluating Automatic-Structure Annotation for ...</td>\n",
       "      <td>Unknown</td>\n",
       "      <td>Unknown</td>\n",
       "      <td>Unknown</td>\n",
       "      <td>Unknown</td>\n",
       "      <td>Unknown</td>\n",
       "      <td>Aoife Cahill, Mair ้ ead McCarthy, Josef Van G...</td>\n",
       "      <td>Methodologies have been developed (van Genabit...</td>\n",
       "      <td>Andy Way</td>\n",
       "    </tr>\n",
       "    <tr>\n",
       "      <th>4841</th>\n",
       "      <td>Contextual Bitext-Derived Paraphrases in Autom...</td>\n",
       "      <td>Unknown</td>\n",
       "      <td>Unknown</td>\n",
       "      <td>Unknown</td>\n",
       "      <td>Unknown</td>\n",
       "      <td>Unknown</td>\n",
       "      <td>Karolina Owczarzak, Declan Groves, Josef Van G...</td>\n",
       "      <td>In this paper we present a method for deriving...</td>\n",
       "      <td>Andy Way</td>\n",
       "    </tr>\n",
       "    <tr>\n",
       "      <th>4842</th>\n",
       "      <td>A Suite of Linguistic Tools for Use with the P...</td>\n",
       "      <td>Unknown</td>\n",
       "      <td>Unknown</td>\n",
       "      <td>Unknown</td>\n",
       "      <td>Unknown</td>\n",
       "      <td>Unknown</td>\n",
       "      <td>Aoife Cahill, Mairéad McCarthy, Ruth O’Donovan...</td>\n",
       "      <td>(Cahill et al. 2002a, b, 2003) present a metho...</td>\n",
       "      <td>Andy Way</td>\n",
       "    </tr>\n",
       "    <tr>\n",
       "      <th>4843</th>\n",
       "      <td>The Creation and Evaluation of an Irish Langua...</td>\n",
       "      <td>Unknown</td>\n",
       "      <td>Unknown</td>\n",
       "      <td>Unknown</td>\n",
       "      <td>Unknown</td>\n",
       "      <td>Unknown</td>\n",
       "      <td>Bríd de Lóndra, Andy Way</td>\n",
       "      <td>This study exposes the absence of an Irish lan...</td>\n",
       "      <td>Andy Way</td>\n",
       "    </tr>\n",
       "    <tr>\n",
       "      <th>4844</th>\n",
       "      <td>TransBooster: Wrapper Technology for Wide-Cove...</td>\n",
       "      <td>Unknown</td>\n",
       "      <td>Unknown</td>\n",
       "      <td>Unknown</td>\n",
       "      <td>Unknown</td>\n",
       "      <td>Unknown</td>\n",
       "      <td>Bart Mellebeek, Karolina Owczarzak, Josef Van ...</td>\n",
       "      <td>We present the design, implementation and eval...</td>\n",
       "      <td>Andy Way</td>\n",
       "    </tr>\n",
       "  </tbody>\n",
       "</table>\n",
       "<p>4845 rows × 9 columns</p>\n",
       "</div>"
      ],
      "text/plain": [
       "                                                  Title Citation  \\\n",
       "0       Efficient cube construction for smart city data       10   \n",
       "1             Generating cubes from smart city web data        7   \n",
       "2     Automating Data Mart Construction from Semi-st...        6   \n",
       "3          Predicting customer churn for insurance data        4   \n",
       "4     Attention Based Video Summaries of Live Online...        3   \n",
       "...                                                 ...      ...   \n",
       "4840  Evaluating Automatic-Structure Annotation for ...  Unknown   \n",
       "4841  Contextual Bitext-Derived Paraphrases in Autom...  Unknown   \n",
       "4842  A Suite of Linguistic Tools for Use with the P...  Unknown   \n",
       "4843  The Creation and Evaluation of an Irish Langua...  Unknown   \n",
       "4844  TransBooster: Wrapper Technology for Wide-Cove...  Unknown   \n",
       "\n",
       "                                             Conference  \\\n",
       "0                                               Unknown   \n",
       "1     Proceedings of the Australasian Computer Scien...   \n",
       "2                                               Unknown   \n",
       "3     International Conference on Big Data Analytics...   \n",
       "4     AAAI-2021 Workshop on AI Education: \"Imagining...   \n",
       "...                                                 ...   \n",
       "4840                                            Unknown   \n",
       "4841                                            Unknown   \n",
       "4842                                            Unknown   \n",
       "4843                                            Unknown   \n",
       "4844                                            Unknown   \n",
       "\n",
       "                    Publisher               Journal     Date  \\\n",
       "0                CEUR-WS. org               Unknown     2016   \n",
       "1                         ACM               Unknown     2017   \n",
       "2     Oxford University Press  The Computer Journal     2018   \n",
       "3              Springer, Cham               Unknown     2020   \n",
       "4                     Unknown               Unknown     2021   \n",
       "...                       ...                   ...      ...   \n",
       "4840                  Unknown               Unknown  Unknown   \n",
       "4841                  Unknown               Unknown  Unknown   \n",
       "4842                  Unknown               Unknown  Unknown   \n",
       "4843                  Unknown               Unknown  Unknown   \n",
       "4844                  Unknown               Unknown  Unknown   \n",
       "\n",
       "                                                Authors  \\\n",
       "0                        Michael Scriney, Mark Roantree   \n",
       "1     Michael Scriney, Martin F O'Connor, Mark Roantree   \n",
       "2     Michael Scriney, Suzanne McCarthy, Andrew McCa...   \n",
       "3           Michael Scriney, Dongyun Nie, Mark Roantree   \n",
       "4     Hyowon Lee, Mingming Liu, Hamza Riaz, Navaneet...   \n",
       "...                                                 ...   \n",
       "4840  Aoife Cahill, Mair ้ ead McCarthy, Josef Van G...   \n",
       "4841  Karolina Owczarzak, Declan Groves, Josef Van G...   \n",
       "4842  Aoife Cahill, Mairéad McCarthy, Ruth O’Donovan...   \n",
       "4843                           Bríd de Lóndra, Andy Way   \n",
       "4844  Bart Mellebeek, Karolina Owczarzak, Josef Van ...   \n",
       "\n",
       "                                               Abstract        AuthorDCU  \n",
       "0     To deliver powerful smart city environments, t...  Michael Scriney  \n",
       "1     A smart city necessitates the incorporation of...  Michael Scriney  \n",
       "2     The global food and agricultural industry has ...  Michael Scriney  \n",
       "3     Most organisations employ customer relationshi...  Michael Scriney  \n",
       "4     This paper describes a system developed to hel...  Michael Scriney  \n",
       "...                                                 ...              ...  \n",
       "4840  Methodologies have been developed (van Genabit...         Andy Way  \n",
       "4841  In this paper we present a method for deriving...         Andy Way  \n",
       "4842  (Cahill et al. 2002a, b, 2003) present a metho...         Andy Way  \n",
       "4843  This study exposes the absence of an Irish lan...         Andy Way  \n",
       "4844  We present the design, implementation and eval...         Andy Way  \n",
       "\n",
       "[4845 rows x 9 columns]"
      ]
     },
     "execution_count": 6,
     "metadata": {},
     "output_type": "execute_result"
    }
   ],
   "source": [
    "df"
   ]
  },
  {
   "cell_type": "markdown",
   "id": "673a7ccd",
   "metadata": {},
   "source": [
    "# Let's investigate our data for nulls, duplicates and more"
   ]
  },
  {
   "cell_type": "code",
   "execution_count": 7,
   "id": "2a6eeeee",
   "metadata": {},
   "outputs": [
    {
     "data": {
      "text/plain": [
       "True"
      ]
     },
     "execution_count": 7,
     "metadata": {},
     "output_type": "execute_result"
    }
   ],
   "source": [
    "# duplicate check\n",
    "df.duplicated().values.any()"
   ]
  },
  {
   "cell_type": "code",
   "execution_count": 8,
   "id": "6de4e862",
   "metadata": {},
   "outputs": [
    {
     "data": {
      "text/plain": [
       "False"
      ]
     },
     "execution_count": 8,
     "metadata": {},
     "output_type": "execute_result"
    }
   ],
   "source": [
    "# null check\n",
    "df.isnull().values.any()"
   ]
  },
  {
   "cell_type": "markdown",
   "id": "f300a4aa",
   "metadata": {},
   "source": [
    "It is pleasing that we have no null values contained in our data. The presence of duplicates does not surprise us if we are honest. This is because there is every chance when DCU professors collaborate on papers together this paper would appear in both their names on their scholar profiles."
   ]
  },
  {
   "cell_type": "markdown",
   "id": "75c189d3",
   "metadata": {},
   "source": [
    "## Plot of DCU scholar profile with most attached papers"
   ]
  },
  {
   "cell_type": "code",
   "execution_count": 46,
   "id": "eeb516dc",
   "metadata": {},
   "outputs": [
    {
     "data": {
      "text/plain": [
       "Alan Smeaton           797\n",
       "Gareth Jones           611\n",
       "Andy Way               512\n",
       "Cathal Gurrin          414\n",
       "Tomas Ward             299\n",
       "Heather J. Ruskin      198\n",
       "Mark Roantree          151\n",
       "Rob Brennan            140\n",
       "Paul M.Clarke          117\n",
       "Martin Crane           109\n",
       "Alessandra Mileo       109\n",
       "Suzanne Little         102\n",
       "Jennifer Foster        100\n",
       "Brian Davis             93\n",
       "Murat Yilmaz            91\n",
       "Geoff Hamilton          84\n",
       "Alistair Sutherland     80\n",
       "Yvette Graham           78\n",
       "Ray Walshe              73\n",
       "Annalina Caputo         72\n",
       "Name: AuthorDCU, dtype: int64"
      ]
     },
     "execution_count": 46,
     "metadata": {},
     "output_type": "execute_result"
    }
   ],
   "source": [
    "df['AuthorDCU'].value_counts()[:20]"
   ]
  },
  {
   "cell_type": "code",
   "execution_count": 10,
   "id": "cbd9fbf7",
   "metadata": {},
   "outputs": [
    {
     "data": {
      "text/plain": [
       "<AxesSubplot:>"
      ]
     },
     "execution_count": 10,
     "metadata": {},
     "output_type": "execute_result"
    },
    {
     "data": {
      "image/png": "[encoded data removed]",
      "text/plain": [
       "<Figure size 1296x432 with 1 Axes>"
      ]
     },
     "metadata": {
      "needs_background": "light"
     },
     "output_type": "display_data"
    }
   ],
   "source": [
    "df['AuthorDCU'].value_counts()[:20].plot(kind='barh', color='green', figsize=(18,6))"
   ]
  },
  {
   "cell_type": "code",
   "execution_count": 11,
   "id": "efe5b1ee",
   "metadata": {},
   "outputs": [
    {
     "data": {
      "text/plain": [
       "Title         object\n",
       "Citation      object\n",
       "Conference    object\n",
       "Publisher     object\n",
       "Journal       object\n",
       "Date          object\n",
       "Authors       object\n",
       "Abstract      object\n",
       "AuthorDCU     object\n",
       "dtype: object"
      ]
     },
     "execution_count": 11,
     "metadata": {},
     "output_type": "execute_result"
    }
   ],
   "source": [
    "df.dtypes"
   ]
  },
  {
   "cell_type": "code",
   "execution_count": 14,
   "id": "f6c4fc8c",
   "metadata": {},
   "outputs": [],
   "source": [
    "year_values = []\n",
    "years =  np.array(df['Date'])\n",
    "for i in range(len(years)):\n",
    "    if years[i] not in year_values:\n",
    "        year_values.append(years[i])"
   ]
  },
  {
   "cell_type": "code",
   "execution_count": 15,
   "id": "4880ac91",
   "metadata": {},
   "outputs": [
    {
     "data": {
      "text/plain": [
       "['2016',\n",
       " '2017',\n",
       " '2018',\n",
       " '2020',\n",
       " '2021',\n",
       " '2019',\n",
       " '2015',\n",
       " 'Unknown',\n",
       " '2012',\n",
       " '2011',\n",
       " '2014',\n",
       " '2013',\n",
       " '2010',\n",
       " '2022',\n",
       " '2009',\n",
       " '2001',\n",
       " '1999',\n",
       " '2000',\n",
       " '2006',\n",
       " '2008',\n",
       " '2005',\n",
       " '2004',\n",
       " '2007',\n",
       " '2003',\n",
       " '2002',\n",
       " '1993',\n",
       " '1998',\n",
       " '1996',\n",
       " '1992',\n",
       " '1991',\n",
       " '1995',\n",
       " '1997',\n",
       " '1994',\n",
       " '1988',\n",
       " '1976',\n",
       " '1978',\n",
       " '1981',\n",
       " '1986',\n",
       " '1982',\n",
       " '1980',\n",
       " '1963',\n",
       " '1983',\n",
       " '1989',\n",
       " '1987',\n",
       " '1984',\n",
       " '1990',\n",
       " '85']"
      ]
     },
     "execution_count": 15,
     "metadata": {},
     "output_type": "execute_result"
    }
   ],
   "source": [
    "year_values"
   ]
  },
  {
   "cell_type": "markdown",
   "id": "4113b584",
   "metadata": {},
   "source": [
    "Clearly there are some outliers here and faulty values such as \"85\". We doubt there was any papers published by DCU staff in 1963 for example. There was other outliers regarding one lecturer in particular, \"Charles Daly\". There was papers dating back 100 years or more and a plethora of different names being tagged to this professor such as \"chuck daly\", \"cath daly\" and more. We decided to remove this instantly before any processing and cleaning on excel."
   ]
  },
  {
   "cell_type": "code",
   "execution_count": 19,
   "id": "abd2d4ed",
   "metadata": {},
   "outputs": [],
   "source": [
    "df.replace({'Citation':{'Unknown':0}}, inplace = True)"
   ]
  },
  {
   "cell_type": "code",
   "execution_count": 21,
   "id": "52a6e2f7",
   "metadata": {},
   "outputs": [],
   "source": [
    "df['Citation'] = pd.to_numeric(df['Citation'])"
   ]
  },
  {
   "cell_type": "code",
   "execution_count": 22,
   "id": "3b19f486",
   "metadata": {},
   "outputs": [
    {
     "data": {
      "text/plain": [
       "Title         object\n",
       "Citation       int64\n",
       "Conference    object\n",
       "Publisher     object\n",
       "Journal       object\n",
       "Date          object\n",
       "Authors       object\n",
       "Abstract      object\n",
       "AuthorDCU     object\n",
       "dtype: object"
      ]
     },
     "execution_count": 22,
     "metadata": {},
     "output_type": "execute_result"
    }
   ],
   "source": [
    "df.dtypes"
   ]
  },
  {
   "cell_type": "code",
   "execution_count": null,
   "id": "f2201bda",
   "metadata": {},
   "outputs": [],
   "source": []
  }
 ],
 "metadata": {
  "kernelspec": {
   "display_name": "Python 3",
   "language": "python",
   "name": "python3"
  },
  "language_info": {
   "codemirror_mode": {
    "name": "ipython",
    "version": 3
   },
   "file_extension": ".py",
   "mimetype": "text/x-python",
   "name": "python",
   "nbconvert_exporter": "python",
   "pygments_lexer": "ipython3",
   "version": "3.8.8"
  }
 },
 "nbformat": 4,
 "nbformat_minor": 5
}
