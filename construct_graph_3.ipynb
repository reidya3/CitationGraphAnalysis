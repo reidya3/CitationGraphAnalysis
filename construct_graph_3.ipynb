{
 "cells": [
  {
   "cell_type": "code",
   "execution_count": 1,
   "metadata": {},
   "outputs": [],
   "source": [
    "import pandas as pd\n",
    "import glob\n",
    "import numpy as np\n",
    "import itertools"
   ]
  },
  {
   "cell_type": "code",
   "execution_count": 2,
   "metadata": {},
   "outputs": [],
   "source": [
    "\n",
    "researchers = glob.glob(\"data/doras/*.csv\")\n",
    "doras_df = pd.DataFrame(columns=['Publication Title','Uncontrolled Keywords'])\n",
    "doras_df\n",
    "for researcher_doras in researchers:\n",
    "    researcher_df = pd.read_csv(researcher_doras)[['Publication Title','Uncontrolled Keywords']]\n",
    "    doras_df = pd.concat([doras_df,researcher_df],ignore_index=True)\n"
   ]
  },
  {
   "cell_type": "code",
   "execution_count": 3,
   "metadata": {},
   "outputs": [],
   "source": [
    "\n",
    "doras_df = doras_df.drop_duplicates(subset=['Publication Title'])\n",
    "keywords = set()\n",
    "for keyword in doras_df[\"Uncontrolled Keywords\"]:\n",
    "    if str(keyword) != 'nan':\n",
    "        for category in keyword.split(';'):\n",
    "            category = category.strip()\n",
    "            if category:\n",
    "                keywords.add(category)\n",
    "pairs_keywords = list(itertools.combinations(keywords, 2))\n"
   ]
  },
  {
   "cell_type": "code",
   "execution_count": 4,
   "metadata": {},
   "outputs": [],
   "source": [
    "keyword_1_list = []\n",
    "keyword_2_list = []\n",
    "pair_count_list = []\n",
    "for keyword_1, keyword_2 in pairs_keywords:\n",
    "    pair_count = 0\n",
    "    for keyword in  doras_df[\"Uncontrolled Keywords\"]:\n",
    "        if keyword_1 in str(keyword) and keyword_2 in str(keyword):\n",
    "            pair_count += 1\n",
    "    if pair_count > 0:\n",
    "        keyword_1_list.append(keyword_1)\n",
    "        keyword_2_list.append(keyword_2)\n",
    "        pair_count_list.append(pair_count)\n"
   ]
  },
  {
   "cell_type": "code",
   "execution_count": 6,
   "metadata": {},
   "outputs": [],
   "source": [
    "\n",
    "doras_keyword_df = pd.DataFrame(data={'keyword_1':keyword_1_list,'keyword_2':keyword_2_list,'count':pair_count_list})\n",
    "doras_keyword_df.to_csv('graph-anayltics/cleaned_data/doras_keywords.csv', index=False)\n",
    "\n",
    "keyword_vertices_name = sorted(set(doras_keyword_df['keyword_1'].values).union(set(doras_keyword_df['keyword_2'].values)))\n",
    "\n",
    "doras_vertices = pd.DataFrame(data={'id':range(1,len(keyword_vertices_name)+1),'keyword':keyword_vertices_name})\n",
    "doras_vertices.to_csv('graph-anayltics/cleaned_data/doras_vertices.csv', index=False)\n",
    "doras_vertices_dict = dict(zip(keyword_vertices_name, range(1,len(keyword_vertices_name)+1)))\n",
    "for index, row in doras_keyword_df.iterrows():\n",
    "    keyword_1_id = doras_vertices_dict[row['keyword_1']]\n",
    "    keyword_2_id = doras_vertices_dict[row['keyword_2']]\n",
    "    if keyword_1_id < keyword_2_id:\n",
    "        doras_keyword_df.iloc[index, 0] = keyword_1_id\n",
    "        doras_keyword_df.iloc[index, 1] = keyword_2_id\n",
    "    if keyword_1_id > keyword_2_id:\n",
    "        doras_keyword_df.iloc[index, 1] = keyword_1_id\n",
    "        doras_keyword_df.iloc[index, 0] = keyword_2_id\n",
    "\n",
    "doras_keyword_df\n",
    "\n",
    "doras_keyword_df.describe()\n",
    "doras_keyword_df.to_csv('graph-anayltics/cleaned_data/doras_edges.csv', index=False)\n"
   ]
  },
  {
   "cell_type": "code",
   "execution_count": null,
   "metadata": {},
   "outputs": [],
   "source": []
  },
  {
   "cell_type": "code",
   "execution_count": null,
   "metadata": {},
   "outputs": [],
   "source": []
  }
 ],
 "metadata": {
  "interpreter": {
   "hash": "96f1127a14846d6815b2dd5e87b1c567f2d9316d3ef15ac6216140bf817412e7"
  },
  "kernelspec": {
   "display_name": "Python 3.8.3 64-bit ('base': conda)",
   "language": "python",
   "name": "python3"
  },
  "language_info": {
   "codemirror_mode": {
    "name": "ipython",
    "version": 3
   },
   "file_extension": ".py",
   "mimetype": "text/x-python",
   "name": "python",
   "nbconvert_exporter": "python",
   "pygments_lexer": "ipython3",
   "version": "3.8.3"
  },
  "orig_nbformat": 4
 },
 "nbformat": 4,
 "nbformat_minor": 2
}
