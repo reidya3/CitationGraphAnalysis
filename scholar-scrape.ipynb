{
 "cells": [
  {
   "cell_type": "code",
   "execution_count": 1,
   "id": "7cc4fb3f",
   "metadata": {},
   "outputs": [
    {
     "name": "stderr",
     "output_type": "stream",
     "text": [
      "\n",
      "\n",
      "====== WebDriver manager ======\n",
      "Current google-chrome version is 95.0.4638\n",
      "Get LATEST chromedriver version for 95.0.4638 google-chrome\n",
      "Driver [C:\\Users\\user\\.wdm\\drivers\\chromedriver\\win32\\95.0.4638.69\\chromedriver.exe] found in cache\n",
      "<ipython-input-1-3aee05df7858>:25: DeprecationWarning: executable_path has been deprecated, please pass in a Service object\n",
      "  driver = webdriver.Chrome(ChromeDriverManager().install())\n"
     ]
    }
   ],
   "source": [
    "import pandas as pd\n",
    "import numpy as np\n",
    "\n",
    "from selenium import webdriver\n",
    "from selenium.webdriver.common.keys import Keys\n",
    "import pandas as pd\n",
    "import wget\n",
    "\n",
    "from webdriver_manager.chrome import ChromeDriverManager\n",
    "\n",
    "from selenium import webdriver\n",
    "from selenium.webdriver.common.keys import Keys\n",
    "from selenium.common.exceptions import TimeoutException\n",
    "from selenium.webdriver.remote.webelement import WebElement\n",
    "import selenium.webdriver.support.ui as ui\n",
    "import selenium.webdriver.support.expected_conditions as EC\n",
    "import time\n",
    "import os\n",
    "import pandas as pd\n",
    "import random\n",
    "from selenium.webdriver.support.ui import WebDriverWait\n",
    "from selenium.webdriver.common.by import By\n",
    "from bs4 import BeautifulSoup\n",
    "\n",
    "driver = webdriver.Chrome(ChromeDriverManager().install())"
   ]
  },
  {
   "cell_type": "code",
   "execution_count": 2,
   "id": "11bb2206",
   "metadata": {},
   "outputs": [],
   "source": [
    "scholars=[\n",
    "'https://scholar.google.com/citations?user=VexgHMQAAAAJ&hl=en&oi=ao',\n",
    "'https://scholar.google.com/citations?user=032sCkEAAAAJ&hl=en&oi=ao',\n",
    "'https://scholar.google.com/citations?user=37nnKncAAAAJ&hl=en&oi=ao',\n",
    "'https://scholar.google.com/citations?user=5W07oMIAAAAJ&hl=en&oi=ao',\n",
    "'https://scholar.google.com/citations?user=FWR33eAAAAAJ&hl=en&oi=ao',\n",
    "'https://scholar.google.com/citations?user=aI-bwLgAAAAJ&hl=en&oi=ao',\n",
    "'https://scholar.google.com/citations?user=gZ4MTA8AAAAJ&hl=en&oi=sra',\n",
    "'https://scholar.google.com/citations?user=VwafmG0AAAAJ&hl=en&oi=ao#',\n",
    "'https://scholar.google.com/citations?user=UhNLg7kAAAAJ&hl=en&oi=sra',\n",
    "'https://scholar.google.com/citations?user=Y6TTxycAAAAJ&hl=en&oi=ao',\n",
    "'https://scholar.google.com/citations?user=qYxtpJcAAAAJ&hl=en&oi=ao',\n",
    "'https://scholar.google.com/citations?user=SC2xBNwAAAAJ&hl=en&oi=ao',\n",
    "'https://scholar.google.com/citations?hl=en&user=_iRbvFYAAAAJ',\n",
    "'https://scholar.google.com/citations?hl=en&user=NSm2hJMAAAAJ',\n",
    "'https://scholar.google.com/citations?hl=en&user=0NAvG3UAAAAJ',\n",
    "'https://scholar.google.com/citations?hl=en&user=Iv3WtrsAAAAJ',\n",
    "'https://scholar.google.com/citations?user=r59BzegAAAAJ&hl=en&oi=ao',\n",
    "'https://scholar.google.com/citations?user=YJuN_H8AAAAJ&hl=en&oi=ao',\n",
    "'https://scholar.google.com/citations?hl=en&user=IjXu9IwAAAAJ',\n",
    "'https://scholar.google.com/citations?hl=en&user=Nt3luwkAAAAJ',\n",
    "'https://scholar.google.com/citations?hl=en&user=XmvJNG8AAAAJ',\n",
    "'https://scholar.google.com/citations?hl=en&user=L6sxj4cAAAAJ',\n",
    "'https://scholar.google.com/citations?user=ZkQuEgMAAAAJ&hl=en&oi=ao',\n",
    "'https://scholar.google.com/citations?user=GegQbH4AAAAJ&hl=en&oi=ao',\n",
    "'https://scholar.google.com/citations?user=MI_tlpIAAAAJ&hl=en&oi=ao',\n",
    "'https://scholar.google.com/citations?user=Ootl1HQAAAAJ&hl=en&oi=sra',\n",
    "'https://scholar.google.com/citations?hl=en&user=5BagDNgAAAAJ',\n",
    "'https://scholar.google.com/citations?hl=en&user=_oD5KVgAAAAJ',\n",
    "'https://scholar.google.com/citations?hl=en&user=o7xnW2MAAAAJ',\n",
    "'https://scholar.google.com/citations?user=yjTWSAEAAAAJ&hl=en&oi=ao',\n",
    "'https://scholar.google.com/citations?user=d-G6EqsAAAAJ&hl=en&oi=ao',\n",
    "'https://scholar.google.com/citations?hl=en&user=kT3yQwoAAAAJ',\n",
    "'https://scholar.google.com/citations?user=ToA74GEAAAAJ&hl=en&oi=ao',\n",
    "'https://scholar.google.com/citations?user=DXgY_xYAAAAJ&hl=en&oi=ao',\n",
    "'https://scholar.google.com/citations?user=dL7lCKUAAAAJ&hl=en&oi=ao',\n",
    "'https://scholar.google.com/citations?user=YLwnsbUAAAAJ&hl=en&oi=ao',\n",
    "'https://scholar.google.com/citations?user=S7J_GYAAAAAJ&hl=en&oi=ao',\n",
    "]"
   ]
  },
  {
   "cell_type": "code",
   "execution_count": 10,
   "id": "8894fbea",
   "metadata": {},
   "outputs": [],
   "source": [
    "names = []\n",
    "pos = []"
   ]
  },
  {
   "cell_type": "code",
   "execution_count": 12,
   "id": "2cacb111",
   "metadata": {},
   "outputs": [
    {
     "name": "stderr",
     "output_type": "stream",
     "text": [
      "<ipython-input-12-fa8b26d2dabe>:6: DeprecationWarning: find_elements_by_* commands are deprecated. Please use find_elements() instead\n",
      "  name = driver.find_elements_by_xpath('//div[@id=\"gsc_prf_in\"]')\n",
      "<ipython-input-12-fa8b26d2dabe>:7: DeprecationWarning: find_elements_by_* commands are deprecated. Please use find_elements() instead\n",
      "  position = driver.find_elements_by_xpath('//div[@class=\"gsc_prf_il\"]')\n"
     ]
    }
   ],
   "source": [
    "for i in range(len(scholars)):    \n",
    "    link = scholars[i]\n",
    "    #print(link)\n",
    "    driver.get(link)\n",
    "    time.sleep(4 + random.uniform(0,10))\n",
    "    name = driver.find_elements_by_xpath('//div[@id=\"gsc_prf_in\"]')\n",
    "    position = driver.find_elements_by_xpath('//div[@class=\"gsc_prf_il\"]')\n",
    "    #est = driver.find_elements_by_xpath('//span[@class=\"hp-datum__value\"]')\n",
    "\n",
    "    for s in range(len(name)):\n",
    "        names.append(name[s].text)\n",
    "        pos.append(position[s].text)\n",
    "\n",
    "    #for s in range(len(position)):\n",
    "        #pos.append(position[s].text)\n",
    "\n",
    "#    for s in range(len(est)):\n",
    "#        estimate.append(est[s].text)\n",
    "        "
   ]
  },
  {
   "cell_type": "code",
   "execution_count": 16,
   "id": "20323a5d",
   "metadata": {},
   "outputs": [],
   "source": [
    "df = pd.DataFrame()\n",
    "df['Researcher'] = names\n",
    "df['Position'] = pos"
   ]
  },
  {
   "cell_type": "code",
   "execution_count": 18,
   "id": "778f43f1",
   "metadata": {},
   "outputs": [],
   "source": [
    "df.replace({'Researcher':{'Alan F. Smeaton MRIA FIEEE':'Alan F. Smeaton', 'Murat YILMAZ': 'Murat Yilmaz'}}, inplace = True)"
   ]
  },
  {
   "cell_type": "code",
   "execution_count": 19,
   "id": "c9c3fad0",
   "metadata": {},
   "outputs": [
    {
     "data": {
      "text/html": [
       "<div>\n",
       "<style scoped>\n",
       "    .dataframe tbody tr th:only-of-type {\n",
       "        vertical-align: middle;\n",
       "    }\n",
       "\n",
       "    .dataframe tbody tr th {\n",
       "        vertical-align: top;\n",
       "    }\n",
       "\n",
       "    .dataframe thead th {\n",
       "        text-align: right;\n",
       "    }\n",
       "</style>\n",
       "<table border=\"1\" class=\"dataframe\">\n",
       "  <thead>\n",
       "    <tr style=\"text-align: right;\">\n",
       "      <th></th>\n",
       "      <th>Researcher</th>\n",
       "      <th>Position</th>\n",
       "    </tr>\n",
       "  </thead>\n",
       "  <tbody>\n",
       "    <tr>\n",
       "      <th>0</th>\n",
       "      <td>Michael Scriney</td>\n",
       "      <td>Insight Centre for Data Analytics</td>\n",
       "    </tr>\n",
       "    <tr>\n",
       "      <th>1</th>\n",
       "      <td>Malika Bendechache</td>\n",
       "      <td>School of Computing, Dublin City University (DCU)</td>\n",
       "    </tr>\n",
       "    <tr>\n",
       "      <th>2</th>\n",
       "      <td>Marija Bezbradica</td>\n",
       "      <td>Lecturer, School of Computing, Dublin City Uni...</td>\n",
       "    </tr>\n",
       "    <tr>\n",
       "      <th>3</th>\n",
       "      <td>Rob Brennan</td>\n",
       "      <td>Assistant Professor, School of Computing, Dubl...</td>\n",
       "    </tr>\n",
       "    <tr>\n",
       "      <th>4</th>\n",
       "      <td>Annalina Caputo</td>\n",
       "      <td>Assistant Professor, Dublin City University, A...</td>\n",
       "    </tr>\n",
       "    <tr>\n",
       "      <th>5</th>\n",
       "      <td>Long Cheng</td>\n",
       "      <td>Professor, North China Electric Power University</td>\n",
       "    </tr>\n",
       "    <tr>\n",
       "      <th>6</th>\n",
       "      <td>Paul Clarke</td>\n",
       "      <td>Associate Professor at Dublin City University ...</td>\n",
       "    </tr>\n",
       "    <tr>\n",
       "      <th>7</th>\n",
       "      <td>Martin Crane</td>\n",
       "      <td>School of Computing, Dublin City University</td>\n",
       "    </tr>\n",
       "    <tr>\n",
       "      <th>8</th>\n",
       "      <td>Charlie Daly</td>\n",
       "      <td>Lecturer in Computer Science</td>\n",
       "    </tr>\n",
       "    <tr>\n",
       "      <th>9</th>\n",
       "      <td>Brian Davis</td>\n",
       "      <td>Assistant Professor, School of Computing, Dubl...</td>\n",
       "    </tr>\n",
       "    <tr>\n",
       "      <th>10</th>\n",
       "      <td>Donal Fitzpatrick</td>\n",
       "      <td>Lecturer, School of Computing, Dublin City Uni...</td>\n",
       "    </tr>\n",
       "    <tr>\n",
       "      <th>11</th>\n",
       "      <td>Jennifer Foster</td>\n",
       "      <td>School of Computing, Dublin City University</td>\n",
       "    </tr>\n",
       "    <tr>\n",
       "      <th>12</th>\n",
       "      <td>Yvette Graham</td>\n",
       "      <td>Assistant Professor, Trinity College Dublin</td>\n",
       "    </tr>\n",
       "    <tr>\n",
       "      <th>13</th>\n",
       "      <td>Cathal Gurrin</td>\n",
       "      <td>School of Computing, Dublin City University &amp; ...</td>\n",
       "    </tr>\n",
       "    <tr>\n",
       "      <th>14</th>\n",
       "      <td>Geoffrey Hamilton</td>\n",
       "      <td>Associate Professor, Dublin City University</td>\n",
       "    </tr>\n",
       "    <tr>\n",
       "      <th>15</th>\n",
       "      <td>Graham Healy</td>\n",
       "      <td>Assistant Professor, Dublin City University</td>\n",
       "    </tr>\n",
       "    <tr>\n",
       "      <th>16</th>\n",
       "      <td>Musfira Jilani</td>\n",
       "      <td>School of Computer Science, Dublin City Univer...</td>\n",
       "    </tr>\n",
       "    <tr>\n",
       "      <th>17</th>\n",
       "      <td>Gareth J. F. Jones</td>\n",
       "      <td>Dublin City University</td>\n",
       "    </tr>\n",
       "    <tr>\n",
       "      <th>18</th>\n",
       "      <td>Suzanne Little</td>\n",
       "      <td>School of Computing, Dublin City University</td>\n",
       "    </tr>\n",
       "    <tr>\n",
       "      <th>19</th>\n",
       "      <td>Silvana Togneri MacMahon</td>\n",
       "      <td>Dublin City University</td>\n",
       "    </tr>\n",
       "    <tr>\n",
       "      <th>20</th>\n",
       "      <td>Andrew McCarren</td>\n",
       "      <td>School of Computer Science, Dublin City Univer...</td>\n",
       "    </tr>\n",
       "    <tr>\n",
       "      <th>21</th>\n",
       "      <td>John McKenna</td>\n",
       "      <td>School of Computing, Dublin City University</td>\n",
       "    </tr>\n",
       "    <tr>\n",
       "      <th>22</th>\n",
       "      <td>Alessandra Mileo</td>\n",
       "      <td>Dublin City University</td>\n",
       "    </tr>\n",
       "    <tr>\n",
       "      <th>23</th>\n",
       "      <td>Darragh O'Brien</td>\n",
       "      <td>Dublin City University</td>\n",
       "    </tr>\n",
       "    <tr>\n",
       "      <th>24</th>\n",
       "      <td>Mark Roantree</td>\n",
       "      <td>School of Computing, Dublin City University</td>\n",
       "    </tr>\n",
       "    <tr>\n",
       "      <th>25</th>\n",
       "      <td>Heather Ruskin</td>\n",
       "      <td>Dublin City University Professor Emeritus Comp...</td>\n",
       "    </tr>\n",
       "    <tr>\n",
       "      <th>26</th>\n",
       "      <td>Dimitar Shterionov</td>\n",
       "      <td>Tilburg University</td>\n",
       "    </tr>\n",
       "    <tr>\n",
       "      <th>27</th>\n",
       "      <td>David Sinclair</td>\n",
       "      <td>School of Computing, Lero, Dublin City University</td>\n",
       "    </tr>\n",
       "    <tr>\n",
       "      <th>28</th>\n",
       "      <td>Alan F. Smeaton</td>\n",
       "      <td>Prof of Computing / Founding Director, Insight...</td>\n",
       "    </tr>\n",
       "    <tr>\n",
       "      <th>29</th>\n",
       "      <td>Alistair Sutherland</td>\n",
       "      <td>School of Computing, Dublin City University</td>\n",
       "    </tr>\n",
       "    <tr>\n",
       "      <th>30</th>\n",
       "      <td>Irina Tal</td>\n",
       "      <td>Dublin City University</td>\n",
       "    </tr>\n",
       "    <tr>\n",
       "      <th>31</th>\n",
       "      <td>Jagadeeswaran Thangaraj</td>\n",
       "      <td>Dublin City University, Dublin, Ireland</td>\n",
       "    </tr>\n",
       "    <tr>\n",
       "      <th>32</th>\n",
       "      <td>Ray Walshe</td>\n",
       "      <td>Dublin City University</td>\n",
       "    </tr>\n",
       "    <tr>\n",
       "      <th>33</th>\n",
       "      <td>Monica Ward</td>\n",
       "      <td>Dublin City University</td>\n",
       "    </tr>\n",
       "    <tr>\n",
       "      <th>34</th>\n",
       "      <td>Tomas Ward</td>\n",
       "      <td>Insight SFI Research Centre for Data Analytics...</td>\n",
       "    </tr>\n",
       "    <tr>\n",
       "      <th>35</th>\n",
       "      <td>Andy Way</td>\n",
       "      <td>ADAPT Centre, Dublin City University</td>\n",
       "    </tr>\n",
       "    <tr>\n",
       "      <th>36</th>\n",
       "      <td>Murat Yilmaz</td>\n",
       "      <td>Associate Professor, Dept. of Computer Enginee...</td>\n",
       "    </tr>\n",
       "  </tbody>\n",
       "</table>\n",
       "</div>"
      ],
      "text/plain": [
       "                  Researcher  \\\n",
       "0            Michael Scriney   \n",
       "1         Malika Bendechache   \n",
       "2          Marija Bezbradica   \n",
       "3                Rob Brennan   \n",
       "4            Annalina Caputo   \n",
       "5                 Long Cheng   \n",
       "6                Paul Clarke   \n",
       "7               Martin Crane   \n",
       "8               Charlie Daly   \n",
       "9                Brian Davis   \n",
       "10         Donal Fitzpatrick   \n",
       "11           Jennifer Foster   \n",
       "12             Yvette Graham   \n",
       "13             Cathal Gurrin   \n",
       "14         Geoffrey Hamilton   \n",
       "15              Graham Healy   \n",
       "16            Musfira Jilani   \n",
       "17        Gareth J. F. Jones   \n",
       "18            Suzanne Little   \n",
       "19  Silvana Togneri MacMahon   \n",
       "20           Andrew McCarren   \n",
       "21              John McKenna   \n",
       "22          Alessandra Mileo   \n",
       "23           Darragh O'Brien   \n",
       "24             Mark Roantree   \n",
       "25            Heather Ruskin   \n",
       "26        Dimitar Shterionov   \n",
       "27            David Sinclair   \n",
       "28           Alan F. Smeaton   \n",
       "29       Alistair Sutherland   \n",
       "30                 Irina Tal   \n",
       "31   Jagadeeswaran Thangaraj   \n",
       "32                Ray Walshe   \n",
       "33               Monica Ward   \n",
       "34                Tomas Ward   \n",
       "35                  Andy Way   \n",
       "36              Murat Yilmaz   \n",
       "\n",
       "                                             Position  \n",
       "0                   Insight Centre for Data Analytics  \n",
       "1   School of Computing, Dublin City University (DCU)  \n",
       "2   Lecturer, School of Computing, Dublin City Uni...  \n",
       "3   Assistant Professor, School of Computing, Dubl...  \n",
       "4   Assistant Professor, Dublin City University, A...  \n",
       "5    Professor, North China Electric Power University  \n",
       "6   Associate Professor at Dublin City University ...  \n",
       "7         School of Computing, Dublin City University  \n",
       "8                        Lecturer in Computer Science  \n",
       "9   Assistant Professor, School of Computing, Dubl...  \n",
       "10  Lecturer, School of Computing, Dublin City Uni...  \n",
       "11        School of Computing, Dublin City University  \n",
       "12        Assistant Professor, Trinity College Dublin  \n",
       "13  School of Computing, Dublin City University & ...  \n",
       "14        Associate Professor, Dublin City University  \n",
       "15        Assistant Professor, Dublin City University  \n",
       "16  School of Computer Science, Dublin City Univer...  \n",
       "17                             Dublin City University  \n",
       "18        School of Computing, Dublin City University  \n",
       "19                             Dublin City University  \n",
       "20  School of Computer Science, Dublin City Univer...  \n",
       "21        School of Computing, Dublin City University  \n",
       "22                             Dublin City University  \n",
       "23                             Dublin City University  \n",
       "24        School of Computing, Dublin City University  \n",
       "25  Dublin City University Professor Emeritus Comp...  \n",
       "26                                 Tilburg University  \n",
       "27  School of Computing, Lero, Dublin City University  \n",
       "28  Prof of Computing / Founding Director, Insight...  \n",
       "29        School of Computing, Dublin City University  \n",
       "30                             Dublin City University  \n",
       "31            Dublin City University, Dublin, Ireland  \n",
       "32                             Dublin City University  \n",
       "33                             Dublin City University  \n",
       "34  Insight SFI Research Centre for Data Analytics...  \n",
       "35               ADAPT Centre, Dublin City University  \n",
       "36  Associate Professor, Dept. of Computer Enginee...  "
      ]
     },
     "execution_count": 19,
     "metadata": {},
     "output_type": "execute_result"
    }
   ],
   "source": [
    "df"
   ]
  },
  {
   "cell_type": "code",
   "execution_count": 314,
   "id": "a08a2f60",
   "metadata": {},
   "outputs": [],
   "source": [
    "paper_title = []\n",
    "authors = []\n",
    "date = []\n",
    "conference = []\n",
    "publisher = []\n",
    "abstract = []\n",
    "citation = []\n",
    "journal = []\n",
    "#year = []"
   ]
  },
  {
   "cell_type": "code",
   "execution_count": 140,
   "id": "6ff0466c",
   "metadata": {},
   "outputs": [],
   "source": [
    "from selenium.common.exceptions import NoSuchElementException\n",
    "def mark_complete(self):\n",
    "    mark_complete = self.find_element_by_xpath('//button[@id=\"gsc_bpf_more\"]')\n",
    "    prop = mark_complete.get_property('disabled')\n",
    "    while prop != True:\n",
    "        try:\n",
    "            mark_complete.click()\n",
    "            time.sleep(2 + random.uniform(0,3))\n",
    "            prop = mark_complete.get_property('disabled')\n",
    "            #print(prop)\n",
    "        except NoSuchElementException:\n",
    "            break"
   ]
  },
  {
   "cell_type": "code",
   "execution_count": 322,
   "id": "8d78b423",
   "metadata": {},
   "outputs": [
    {
     "name": "stderr",
     "output_type": "stream",
     "text": [
      "<ipython-input-140-42747ca9174f>:3: DeprecationWarning: find_element_by_* commands are deprecated. Please use find_element() instead\n",
      "  mark_complete = self.find_element_by_xpath('//button[@id=\"gsc_bpf_more\"]')\n",
      "<ipython-input-322-eeb4c8e66cac>:7: DeprecationWarning: find_elements_by_* commands are deprecated. Please use find_elements() instead\n",
      "  results_list = driver.find_elements_by_xpath(\"//a[@class='gsc_a_at']\")\n",
      "<ipython-input-322-eeb4c8e66cac>:15: DeprecationWarning: find_elements_by_* commands are deprecated. Please use find_elements() instead\n",
      "  results_list = driver.find_elements_by_xpath(\"//a[@class='gsc_a_at']\")\n"
     ]
    },
    {
     "name": "stdout",
     "output_type": "stream",
     "text": [
      "18\n"
     ]
    },
    {
     "name": "stderr",
     "output_type": "stream",
     "text": [
      "<ipython-input-322-eeb4c8e66cac>:23: DeprecationWarning: find_element_by_* commands are deprecated. Please use find_element() instead\n",
      "  title = driver.find_element_by_xpath('//a[@class=\"gsc_oci_title_link\"]')\n",
      "<ipython-input-322-eeb4c8e66cac>:26: DeprecationWarning: find_elements_by_* commands are deprecated. Please use find_elements() instead\n",
      "  a = driver.find_elements_by_xpath('//td[@class=\"gsc_a_c\"]')\n"
     ]
    },
    {
     "name": "stdout",
     "output_type": "stream",
     "text": [
      "Authors\n",
      "Publication date\n",
      "Volume\n",
      "Publisher\n",
      "Description\n",
      "Total citations\n",
      "Scholar articles\n",
      "Authors\n",
      "Publication date\n",
      "Conference\n",
      "Pages\n",
      "Publisher\n",
      "Description\n",
      "Total citations\n",
      "Scholar articles\n",
      "Authors\n",
      "Publication date\n",
      "Journal\n",
      "Volume\n",
      "Issue\n",
      "Pages\n",
      "Publisher\n",
      "Description\n",
      "Total citations\n",
      "Scholar articles\n"
     ]
    },
    {
     "ename": "KeyboardInterrupt",
     "evalue": "",
     "output_type": "error",
     "traceback": [
      "\u001b[1;31m---------------------------------------------------------------------------\u001b[0m",
      "\u001b[1;31mKeyboardInterrupt\u001b[0m                         Traceback (most recent call last)",
      "\u001b[1;32m<ipython-input-322-eeb4c8e66cac>\u001b[0m in \u001b[0;36m<module>\u001b[1;34m\u001b[0m\n\u001b[0;32m     24\u001b[0m         \u001b[0mpaper_title\u001b[0m\u001b[1;33m.\u001b[0m\u001b[0mappend\u001b[0m\u001b[1;33m(\u001b[0m\u001b[0mtitle\u001b[0m\u001b[1;33m.\u001b[0m\u001b[0mtext\u001b[0m\u001b[1;33m)\u001b[0m\u001b[1;33m\u001b[0m\u001b[1;33m\u001b[0m\u001b[0m\n\u001b[0;32m     25\u001b[0m \u001b[1;33m\u001b[0m\u001b[0m\n\u001b[1;32m---> 26\u001b[1;33m         \u001b[0ma\u001b[0m \u001b[1;33m=\u001b[0m \u001b[0mdriver\u001b[0m\u001b[1;33m.\u001b[0m\u001b[0mfind_elements_by_xpath\u001b[0m\u001b[1;33m(\u001b[0m\u001b[1;34m'//td[@class=\"gsc_a_c\"]'\u001b[0m\u001b[1;33m)\u001b[0m\u001b[1;33m\u001b[0m\u001b[1;33m\u001b[0m\u001b[0m\n\u001b[0m\u001b[0;32m     27\u001b[0m \u001b[1;33m\u001b[0m\u001b[0m\n\u001b[0;32m     28\u001b[0m         \u001b[0mtable_id\u001b[0m \u001b[1;33m=\u001b[0m \u001b[0mdriver\u001b[0m\u001b[1;33m.\u001b[0m\u001b[0mfind_element\u001b[0m\u001b[1;33m(\u001b[0m\u001b[0mBy\u001b[0m\u001b[1;33m.\u001b[0m\u001b[0mID\u001b[0m\u001b[1;33m,\u001b[0m \u001b[1;34m'gsc_oci_table'\u001b[0m\u001b[1;33m)\u001b[0m\u001b[1;33m\u001b[0m\u001b[1;33m\u001b[0m\u001b[0m\n",
      "\u001b[1;32m~\\anaconda3\\lib\\site-packages\\selenium\\webdriver\\remote\\webdriver.py\u001b[0m in \u001b[0;36mfind_elements_by_xpath\u001b[1;34m(self, xpath)\u001b[0m\n\u001b[0;32m    535\u001b[0m             \u001b[0mstacklevel\u001b[0m\u001b[1;33m=\u001b[0m\u001b[1;36m2\u001b[0m\u001b[1;33m,\u001b[0m\u001b[1;33m\u001b[0m\u001b[1;33m\u001b[0m\u001b[0m\n\u001b[0;32m    536\u001b[0m         )\n\u001b[1;32m--> 537\u001b[1;33m         \u001b[1;32mreturn\u001b[0m \u001b[0mself\u001b[0m\u001b[1;33m.\u001b[0m\u001b[0mfind_elements\u001b[0m\u001b[1;33m(\u001b[0m\u001b[0mby\u001b[0m\u001b[1;33m=\u001b[0m\u001b[0mBy\u001b[0m\u001b[1;33m.\u001b[0m\u001b[0mXPATH\u001b[0m\u001b[1;33m,\u001b[0m \u001b[0mvalue\u001b[0m\u001b[1;33m=\u001b[0m\u001b[0mxpath\u001b[0m\u001b[1;33m)\u001b[0m\u001b[1;33m\u001b[0m\u001b[1;33m\u001b[0m\u001b[0m\n\u001b[0m\u001b[0;32m    538\u001b[0m \u001b[1;33m\u001b[0m\u001b[0m\n\u001b[0;32m    539\u001b[0m     \u001b[1;32mdef\u001b[0m \u001b[0mfind_element_by_link_text\u001b[0m\u001b[1;33m(\u001b[0m\u001b[0mself\u001b[0m\u001b[1;33m,\u001b[0m \u001b[0mlink_text\u001b[0m\u001b[1;33m)\u001b[0m \u001b[1;33m->\u001b[0m \u001b[0mWebElement\u001b[0m\u001b[1;33m:\u001b[0m\u001b[1;33m\u001b[0m\u001b[1;33m\u001b[0m\u001b[0m\n",
      "\u001b[1;32m~\\anaconda3\\lib\\site-packages\\selenium\\webdriver\\remote\\webdriver.py\u001b[0m in \u001b[0;36mfind_elements\u001b[1;34m(self, by, value)\u001b[0m\n\u001b[0;32m   1271\u001b[0m         \u001b[1;31m# Return empty list if driver returns null\u001b[0m\u001b[1;33m\u001b[0m\u001b[1;33m\u001b[0m\u001b[1;33m\u001b[0m\u001b[0m\n\u001b[0;32m   1272\u001b[0m         \u001b[1;31m# See https://github.com/SeleniumHQ/selenium/issues/4555\u001b[0m\u001b[1;33m\u001b[0m\u001b[1;33m\u001b[0m\u001b[1;33m\u001b[0m\u001b[0m\n\u001b[1;32m-> 1273\u001b[1;33m         return self.execute(Command.FIND_ELEMENTS, {\n\u001b[0m\u001b[0;32m   1274\u001b[0m             \u001b[1;34m'using'\u001b[0m\u001b[1;33m:\u001b[0m \u001b[0mby\u001b[0m\u001b[1;33m,\u001b[0m\u001b[1;33m\u001b[0m\u001b[1;33m\u001b[0m\u001b[0m\n\u001b[0;32m   1275\u001b[0m             'value': value})['value'] or []\n",
      "\u001b[1;32m~\\anaconda3\\lib\\site-packages\\selenium\\webdriver\\remote\\webdriver.py\u001b[0m in \u001b[0;36mexecute\u001b[1;34m(self, driver_command, params)\u001b[0m\n\u001b[0;32m    414\u001b[0m \u001b[1;33m\u001b[0m\u001b[0m\n\u001b[0;32m    415\u001b[0m         \u001b[0mparams\u001b[0m \u001b[1;33m=\u001b[0m \u001b[0mself\u001b[0m\u001b[1;33m.\u001b[0m\u001b[0m_wrap_value\u001b[0m\u001b[1;33m(\u001b[0m\u001b[0mparams\u001b[0m\u001b[1;33m)\u001b[0m\u001b[1;33m\u001b[0m\u001b[1;33m\u001b[0m\u001b[0m\n\u001b[1;32m--> 416\u001b[1;33m         \u001b[0mresponse\u001b[0m \u001b[1;33m=\u001b[0m \u001b[0mself\u001b[0m\u001b[1;33m.\u001b[0m\u001b[0mcommand_executor\u001b[0m\u001b[1;33m.\u001b[0m\u001b[0mexecute\u001b[0m\u001b[1;33m(\u001b[0m\u001b[0mdriver_command\u001b[0m\u001b[1;33m,\u001b[0m \u001b[0mparams\u001b[0m\u001b[1;33m)\u001b[0m\u001b[1;33m\u001b[0m\u001b[1;33m\u001b[0m\u001b[0m\n\u001b[0m\u001b[0;32m    417\u001b[0m         \u001b[1;32mif\u001b[0m \u001b[0mresponse\u001b[0m\u001b[1;33m:\u001b[0m\u001b[1;33m\u001b[0m\u001b[1;33m\u001b[0m\u001b[0m\n\u001b[0;32m    418\u001b[0m             \u001b[0mself\u001b[0m\u001b[1;33m.\u001b[0m\u001b[0merror_handler\u001b[0m\u001b[1;33m.\u001b[0m\u001b[0mcheck_response\u001b[0m\u001b[1;33m(\u001b[0m\u001b[0mresponse\u001b[0m\u001b[1;33m)\u001b[0m\u001b[1;33m\u001b[0m\u001b[1;33m\u001b[0m\u001b[0m\n",
      "\u001b[1;32m~\\anaconda3\\lib\\site-packages\\selenium\\webdriver\\remote\\remote_connection.py\u001b[0m in \u001b[0;36mexecute\u001b[1;34m(self, command, params)\u001b[0m\n\u001b[0;32m    396\u001b[0m         \u001b[0mdata\u001b[0m \u001b[1;33m=\u001b[0m \u001b[0mutils\u001b[0m\u001b[1;33m.\u001b[0m\u001b[0mdump_json\u001b[0m\u001b[1;33m(\u001b[0m\u001b[0mparams\u001b[0m\u001b[1;33m)\u001b[0m\u001b[1;33m\u001b[0m\u001b[1;33m\u001b[0m\u001b[0m\n\u001b[0;32m    397\u001b[0m         \u001b[0murl\u001b[0m \u001b[1;33m=\u001b[0m \u001b[1;34mf\"{self._url}{path}\"\u001b[0m\u001b[1;33m\u001b[0m\u001b[1;33m\u001b[0m\u001b[0m\n\u001b[1;32m--> 398\u001b[1;33m         \u001b[1;32mreturn\u001b[0m \u001b[0mself\u001b[0m\u001b[1;33m.\u001b[0m\u001b[0m_request\u001b[0m\u001b[1;33m(\u001b[0m\u001b[0mcommand_info\u001b[0m\u001b[1;33m[\u001b[0m\u001b[1;36m0\u001b[0m\u001b[1;33m]\u001b[0m\u001b[1;33m,\u001b[0m \u001b[0murl\u001b[0m\u001b[1;33m,\u001b[0m \u001b[0mbody\u001b[0m\u001b[1;33m=\u001b[0m\u001b[0mdata\u001b[0m\u001b[1;33m)\u001b[0m\u001b[1;33m\u001b[0m\u001b[1;33m\u001b[0m\u001b[0m\n\u001b[0m\u001b[0;32m    399\u001b[0m \u001b[1;33m\u001b[0m\u001b[0m\n\u001b[0;32m    400\u001b[0m     \u001b[1;32mdef\u001b[0m \u001b[0m_request\u001b[0m\u001b[1;33m(\u001b[0m\u001b[0mself\u001b[0m\u001b[1;33m,\u001b[0m \u001b[0mmethod\u001b[0m\u001b[1;33m,\u001b[0m \u001b[0murl\u001b[0m\u001b[1;33m,\u001b[0m \u001b[0mbody\u001b[0m\u001b[1;33m=\u001b[0m\u001b[1;32mNone\u001b[0m\u001b[1;33m)\u001b[0m\u001b[1;33m:\u001b[0m\u001b[1;33m\u001b[0m\u001b[1;33m\u001b[0m\u001b[0m\n",
      "\u001b[1;32m~\\anaconda3\\lib\\site-packages\\selenium\\webdriver\\remote\\remote_connection.py\u001b[0m in \u001b[0;36m_request\u001b[1;34m(self, method, url, body)\u001b[0m\n\u001b[0;32m    418\u001b[0m \u001b[1;33m\u001b[0m\u001b[0m\n\u001b[0;32m    419\u001b[0m         \u001b[1;32mif\u001b[0m \u001b[0mself\u001b[0m\u001b[1;33m.\u001b[0m\u001b[0mkeep_alive\u001b[0m\u001b[1;33m:\u001b[0m\u001b[1;33m\u001b[0m\u001b[1;33m\u001b[0m\u001b[0m\n\u001b[1;32m--> 420\u001b[1;33m             \u001b[0mresp\u001b[0m \u001b[1;33m=\u001b[0m \u001b[0mself\u001b[0m\u001b[1;33m.\u001b[0m\u001b[0m_conn\u001b[0m\u001b[1;33m.\u001b[0m\u001b[0mrequest\u001b[0m\u001b[1;33m(\u001b[0m\u001b[0mmethod\u001b[0m\u001b[1;33m,\u001b[0m \u001b[0murl\u001b[0m\u001b[1;33m,\u001b[0m \u001b[0mbody\u001b[0m\u001b[1;33m=\u001b[0m\u001b[0mbody\u001b[0m\u001b[1;33m,\u001b[0m \u001b[0mheaders\u001b[0m\u001b[1;33m=\u001b[0m\u001b[0mheaders\u001b[0m\u001b[1;33m)\u001b[0m\u001b[1;33m\u001b[0m\u001b[1;33m\u001b[0m\u001b[0m\n\u001b[0m\u001b[0;32m    421\u001b[0m             \u001b[0mstatuscode\u001b[0m \u001b[1;33m=\u001b[0m \u001b[0mresp\u001b[0m\u001b[1;33m.\u001b[0m\u001b[0mstatus\u001b[0m\u001b[1;33m\u001b[0m\u001b[1;33m\u001b[0m\u001b[0m\n\u001b[0;32m    422\u001b[0m         \u001b[1;32melse\u001b[0m\u001b[1;33m:\u001b[0m\u001b[1;33m\u001b[0m\u001b[1;33m\u001b[0m\u001b[0m\n",
      "\u001b[1;32m~\\anaconda3\\lib\\site-packages\\urllib3\\request.py\u001b[0m in \u001b[0;36mrequest\u001b[1;34m(self, method, url, fields, headers, **urlopen_kw)\u001b[0m\n\u001b[0;32m     76\u001b[0m             )\n\u001b[0;32m     77\u001b[0m         \u001b[1;32melse\u001b[0m\u001b[1;33m:\u001b[0m\u001b[1;33m\u001b[0m\u001b[1;33m\u001b[0m\u001b[0m\n\u001b[1;32m---> 78\u001b[1;33m             return self.request_encode_body(\n\u001b[0m\u001b[0;32m     79\u001b[0m                 \u001b[0mmethod\u001b[0m\u001b[1;33m,\u001b[0m \u001b[0murl\u001b[0m\u001b[1;33m,\u001b[0m \u001b[0mfields\u001b[0m\u001b[1;33m=\u001b[0m\u001b[0mfields\u001b[0m\u001b[1;33m,\u001b[0m \u001b[0mheaders\u001b[0m\u001b[1;33m=\u001b[0m\u001b[0mheaders\u001b[0m\u001b[1;33m,\u001b[0m \u001b[1;33m**\u001b[0m\u001b[0murlopen_kw\u001b[0m\u001b[1;33m\u001b[0m\u001b[1;33m\u001b[0m\u001b[0m\n\u001b[0;32m     80\u001b[0m             )\n",
      "\u001b[1;32m~\\anaconda3\\lib\\site-packages\\urllib3\\request.py\u001b[0m in \u001b[0;36mrequest_encode_body\u001b[1;34m(self, method, url, fields, headers, encode_multipart, multipart_boundary, **urlopen_kw)\u001b[0m\n\u001b[0;32m    168\u001b[0m         \u001b[0mextra_kw\u001b[0m\u001b[1;33m.\u001b[0m\u001b[0mupdate\u001b[0m\u001b[1;33m(\u001b[0m\u001b[0murlopen_kw\u001b[0m\u001b[1;33m)\u001b[0m\u001b[1;33m\u001b[0m\u001b[1;33m\u001b[0m\u001b[0m\n\u001b[0;32m    169\u001b[0m \u001b[1;33m\u001b[0m\u001b[0m\n\u001b[1;32m--> 170\u001b[1;33m         \u001b[1;32mreturn\u001b[0m \u001b[0mself\u001b[0m\u001b[1;33m.\u001b[0m\u001b[0murlopen\u001b[0m\u001b[1;33m(\u001b[0m\u001b[0mmethod\u001b[0m\u001b[1;33m,\u001b[0m \u001b[0murl\u001b[0m\u001b[1;33m,\u001b[0m \u001b[1;33m**\u001b[0m\u001b[0mextra_kw\u001b[0m\u001b[1;33m)\u001b[0m\u001b[1;33m\u001b[0m\u001b[1;33m\u001b[0m\u001b[0m\n\u001b[0m",
      "\u001b[1;32m~\\anaconda3\\lib\\site-packages\\urllib3\\poolmanager.py\u001b[0m in \u001b[0;36murlopen\u001b[1;34m(self, method, url, redirect, **kw)\u001b[0m\n\u001b[0;32m    373\u001b[0m             \u001b[0mresponse\u001b[0m \u001b[1;33m=\u001b[0m \u001b[0mconn\u001b[0m\u001b[1;33m.\u001b[0m\u001b[0murlopen\u001b[0m\u001b[1;33m(\u001b[0m\u001b[0mmethod\u001b[0m\u001b[1;33m,\u001b[0m \u001b[0murl\u001b[0m\u001b[1;33m,\u001b[0m \u001b[1;33m**\u001b[0m\u001b[0mkw\u001b[0m\u001b[1;33m)\u001b[0m\u001b[1;33m\u001b[0m\u001b[1;33m\u001b[0m\u001b[0m\n\u001b[0;32m    374\u001b[0m         \u001b[1;32melse\u001b[0m\u001b[1;33m:\u001b[0m\u001b[1;33m\u001b[0m\u001b[1;33m\u001b[0m\u001b[0m\n\u001b[1;32m--> 375\u001b[1;33m             \u001b[0mresponse\u001b[0m \u001b[1;33m=\u001b[0m \u001b[0mconn\u001b[0m\u001b[1;33m.\u001b[0m\u001b[0murlopen\u001b[0m\u001b[1;33m(\u001b[0m\u001b[0mmethod\u001b[0m\u001b[1;33m,\u001b[0m \u001b[0mu\u001b[0m\u001b[1;33m.\u001b[0m\u001b[0mrequest_uri\u001b[0m\u001b[1;33m,\u001b[0m \u001b[1;33m**\u001b[0m\u001b[0mkw\u001b[0m\u001b[1;33m)\u001b[0m\u001b[1;33m\u001b[0m\u001b[1;33m\u001b[0m\u001b[0m\n\u001b[0m\u001b[0;32m    376\u001b[0m \u001b[1;33m\u001b[0m\u001b[0m\n\u001b[0;32m    377\u001b[0m         \u001b[0mredirect_location\u001b[0m \u001b[1;33m=\u001b[0m \u001b[0mredirect\u001b[0m \u001b[1;32mand\u001b[0m \u001b[0mresponse\u001b[0m\u001b[1;33m.\u001b[0m\u001b[0mget_redirect_location\u001b[0m\u001b[1;33m(\u001b[0m\u001b[1;33m)\u001b[0m\u001b[1;33m\u001b[0m\u001b[1;33m\u001b[0m\u001b[0m\n",
      "\u001b[1;32m~\\anaconda3\\lib\\site-packages\\urllib3\\connectionpool.py\u001b[0m in \u001b[0;36murlopen\u001b[1;34m(self, method, url, body, headers, retries, redirect, assert_same_host, timeout, pool_timeout, release_conn, chunked, body_pos, **response_kw)\u001b[0m\n\u001b[0;32m    697\u001b[0m \u001b[1;33m\u001b[0m\u001b[0m\n\u001b[0;32m    698\u001b[0m             \u001b[1;31m# Make the request on the httplib connection object.\u001b[0m\u001b[1;33m\u001b[0m\u001b[1;33m\u001b[0m\u001b[1;33m\u001b[0m\u001b[0m\n\u001b[1;32m--> 699\u001b[1;33m             httplib_response = self._make_request(\n\u001b[0m\u001b[0;32m    700\u001b[0m                 \u001b[0mconn\u001b[0m\u001b[1;33m,\u001b[0m\u001b[1;33m\u001b[0m\u001b[1;33m\u001b[0m\u001b[0m\n\u001b[0;32m    701\u001b[0m                 \u001b[0mmethod\u001b[0m\u001b[1;33m,\u001b[0m\u001b[1;33m\u001b[0m\u001b[1;33m\u001b[0m\u001b[0m\n",
      "\u001b[1;32m~\\anaconda3\\lib\\site-packages\\urllib3\\connectionpool.py\u001b[0m in \u001b[0;36m_make_request\u001b[1;34m(self, conn, method, url, timeout, chunked, **httplib_request_kw)\u001b[0m\n\u001b[0;32m    443\u001b[0m                     \u001b[1;31m# Python 3 (including for exceptions like SystemExit).\u001b[0m\u001b[1;33m\u001b[0m\u001b[1;33m\u001b[0m\u001b[1;33m\u001b[0m\u001b[0m\n\u001b[0;32m    444\u001b[0m                     \u001b[1;31m# Otherwise it looks like a bug in the code.\u001b[0m\u001b[1;33m\u001b[0m\u001b[1;33m\u001b[0m\u001b[1;33m\u001b[0m\u001b[0m\n\u001b[1;32m--> 445\u001b[1;33m                     \u001b[0msix\u001b[0m\u001b[1;33m.\u001b[0m\u001b[0mraise_from\u001b[0m\u001b[1;33m(\u001b[0m\u001b[0me\u001b[0m\u001b[1;33m,\u001b[0m \u001b[1;32mNone\u001b[0m\u001b[1;33m)\u001b[0m\u001b[1;33m\u001b[0m\u001b[1;33m\u001b[0m\u001b[0m\n\u001b[0m\u001b[0;32m    446\u001b[0m         \u001b[1;32mexcept\u001b[0m \u001b[1;33m(\u001b[0m\u001b[0mSocketTimeout\u001b[0m\u001b[1;33m,\u001b[0m \u001b[0mBaseSSLError\u001b[0m\u001b[1;33m,\u001b[0m \u001b[0mSocketError\u001b[0m\u001b[1;33m)\u001b[0m \u001b[1;32mas\u001b[0m \u001b[0me\u001b[0m\u001b[1;33m:\u001b[0m\u001b[1;33m\u001b[0m\u001b[1;33m\u001b[0m\u001b[0m\n\u001b[0;32m    447\u001b[0m             \u001b[0mself\u001b[0m\u001b[1;33m.\u001b[0m\u001b[0m_raise_timeout\u001b[0m\u001b[1;33m(\u001b[0m\u001b[0merr\u001b[0m\u001b[1;33m=\u001b[0m\u001b[0me\u001b[0m\u001b[1;33m,\u001b[0m \u001b[0murl\u001b[0m\u001b[1;33m=\u001b[0m\u001b[0murl\u001b[0m\u001b[1;33m,\u001b[0m \u001b[0mtimeout_value\u001b[0m\u001b[1;33m=\u001b[0m\u001b[0mread_timeout\u001b[0m\u001b[1;33m)\u001b[0m\u001b[1;33m\u001b[0m\u001b[1;33m\u001b[0m\u001b[0m\n",
      "\u001b[1;32m~\\anaconda3\\lib\\site-packages\\urllib3\\packages\\six.py\u001b[0m in \u001b[0;36mraise_from\u001b[1;34m(value, from_value)\u001b[0m\n",
      "\u001b[1;32m~\\anaconda3\\lib\\site-packages\\urllib3\\connectionpool.py\u001b[0m in \u001b[0;36m_make_request\u001b[1;34m(self, conn, method, url, timeout, chunked, **httplib_request_kw)\u001b[0m\n\u001b[0;32m    438\u001b[0m                 \u001b[1;31m# Python 3\u001b[0m\u001b[1;33m\u001b[0m\u001b[1;33m\u001b[0m\u001b[1;33m\u001b[0m\u001b[0m\n\u001b[0;32m    439\u001b[0m                 \u001b[1;32mtry\u001b[0m\u001b[1;33m:\u001b[0m\u001b[1;33m\u001b[0m\u001b[1;33m\u001b[0m\u001b[0m\n\u001b[1;32m--> 440\u001b[1;33m                     \u001b[0mhttplib_response\u001b[0m \u001b[1;33m=\u001b[0m \u001b[0mconn\u001b[0m\u001b[1;33m.\u001b[0m\u001b[0mgetresponse\u001b[0m\u001b[1;33m(\u001b[0m\u001b[1;33m)\u001b[0m\u001b[1;33m\u001b[0m\u001b[1;33m\u001b[0m\u001b[0m\n\u001b[0m\u001b[0;32m    441\u001b[0m                 \u001b[1;32mexcept\u001b[0m \u001b[0mBaseException\u001b[0m \u001b[1;32mas\u001b[0m \u001b[0me\u001b[0m\u001b[1;33m:\u001b[0m\u001b[1;33m\u001b[0m\u001b[1;33m\u001b[0m\u001b[0m\n\u001b[0;32m    442\u001b[0m                     \u001b[1;31m# Remove the TypeError from the exception chain in\u001b[0m\u001b[1;33m\u001b[0m\u001b[1;33m\u001b[0m\u001b[1;33m\u001b[0m\u001b[0m\n",
      "\u001b[1;32m~\\anaconda3\\lib\\http\\client.py\u001b[0m in \u001b[0;36mgetresponse\u001b[1;34m(self)\u001b[0m\n\u001b[0;32m   1345\u001b[0m         \u001b[1;32mtry\u001b[0m\u001b[1;33m:\u001b[0m\u001b[1;33m\u001b[0m\u001b[1;33m\u001b[0m\u001b[0m\n\u001b[0;32m   1346\u001b[0m             \u001b[1;32mtry\u001b[0m\u001b[1;33m:\u001b[0m\u001b[1;33m\u001b[0m\u001b[1;33m\u001b[0m\u001b[0m\n\u001b[1;32m-> 1347\u001b[1;33m                 \u001b[0mresponse\u001b[0m\u001b[1;33m.\u001b[0m\u001b[0mbegin\u001b[0m\u001b[1;33m(\u001b[0m\u001b[1;33m)\u001b[0m\u001b[1;33m\u001b[0m\u001b[1;33m\u001b[0m\u001b[0m\n\u001b[0m\u001b[0;32m   1348\u001b[0m             \u001b[1;32mexcept\u001b[0m \u001b[0mConnectionError\u001b[0m\u001b[1;33m:\u001b[0m\u001b[1;33m\u001b[0m\u001b[1;33m\u001b[0m\u001b[0m\n\u001b[0;32m   1349\u001b[0m                 \u001b[0mself\u001b[0m\u001b[1;33m.\u001b[0m\u001b[0mclose\u001b[0m\u001b[1;33m(\u001b[0m\u001b[1;33m)\u001b[0m\u001b[1;33m\u001b[0m\u001b[1;33m\u001b[0m\u001b[0m\n",
      "\u001b[1;32m~\\anaconda3\\lib\\http\\client.py\u001b[0m in \u001b[0;36mbegin\u001b[1;34m(self)\u001b[0m\n\u001b[0;32m    305\u001b[0m         \u001b[1;31m# read until we get a non-100 response\u001b[0m\u001b[1;33m\u001b[0m\u001b[1;33m\u001b[0m\u001b[1;33m\u001b[0m\u001b[0m\n\u001b[0;32m    306\u001b[0m         \u001b[1;32mwhile\u001b[0m \u001b[1;32mTrue\u001b[0m\u001b[1;33m:\u001b[0m\u001b[1;33m\u001b[0m\u001b[1;33m\u001b[0m\u001b[0m\n\u001b[1;32m--> 307\u001b[1;33m             \u001b[0mversion\u001b[0m\u001b[1;33m,\u001b[0m \u001b[0mstatus\u001b[0m\u001b[1;33m,\u001b[0m \u001b[0mreason\u001b[0m \u001b[1;33m=\u001b[0m \u001b[0mself\u001b[0m\u001b[1;33m.\u001b[0m\u001b[0m_read_status\u001b[0m\u001b[1;33m(\u001b[0m\u001b[1;33m)\u001b[0m\u001b[1;33m\u001b[0m\u001b[1;33m\u001b[0m\u001b[0m\n\u001b[0m\u001b[0;32m    308\u001b[0m             \u001b[1;32mif\u001b[0m \u001b[0mstatus\u001b[0m \u001b[1;33m!=\u001b[0m \u001b[0mCONTINUE\u001b[0m\u001b[1;33m:\u001b[0m\u001b[1;33m\u001b[0m\u001b[1;33m\u001b[0m\u001b[0m\n\u001b[0;32m    309\u001b[0m                 \u001b[1;32mbreak\u001b[0m\u001b[1;33m\u001b[0m\u001b[1;33m\u001b[0m\u001b[0m\n",
      "\u001b[1;32m~\\anaconda3\\lib\\http\\client.py\u001b[0m in \u001b[0;36m_read_status\u001b[1;34m(self)\u001b[0m\n\u001b[0;32m    266\u001b[0m \u001b[1;33m\u001b[0m\u001b[0m\n\u001b[0;32m    267\u001b[0m     \u001b[1;32mdef\u001b[0m \u001b[0m_read_status\u001b[0m\u001b[1;33m(\u001b[0m\u001b[0mself\u001b[0m\u001b[1;33m)\u001b[0m\u001b[1;33m:\u001b[0m\u001b[1;33m\u001b[0m\u001b[1;33m\u001b[0m\u001b[0m\n\u001b[1;32m--> 268\u001b[1;33m         \u001b[0mline\u001b[0m \u001b[1;33m=\u001b[0m \u001b[0mstr\u001b[0m\u001b[1;33m(\u001b[0m\u001b[0mself\u001b[0m\u001b[1;33m.\u001b[0m\u001b[0mfp\u001b[0m\u001b[1;33m.\u001b[0m\u001b[0mreadline\u001b[0m\u001b[1;33m(\u001b[0m\u001b[0m_MAXLINE\u001b[0m \u001b[1;33m+\u001b[0m \u001b[1;36m1\u001b[0m\u001b[1;33m)\u001b[0m\u001b[1;33m,\u001b[0m \u001b[1;34m\"iso-8859-1\"\u001b[0m\u001b[1;33m)\u001b[0m\u001b[1;33m\u001b[0m\u001b[1;33m\u001b[0m\u001b[0m\n\u001b[0m\u001b[0;32m    269\u001b[0m         \u001b[1;32mif\u001b[0m \u001b[0mlen\u001b[0m\u001b[1;33m(\u001b[0m\u001b[0mline\u001b[0m\u001b[1;33m)\u001b[0m \u001b[1;33m>\u001b[0m \u001b[0m_MAXLINE\u001b[0m\u001b[1;33m:\u001b[0m\u001b[1;33m\u001b[0m\u001b[1;33m\u001b[0m\u001b[0m\n\u001b[0;32m    270\u001b[0m             \u001b[1;32mraise\u001b[0m \u001b[0mLineTooLong\u001b[0m\u001b[1;33m(\u001b[0m\u001b[1;34m\"status line\"\u001b[0m\u001b[1;33m)\u001b[0m\u001b[1;33m\u001b[0m\u001b[1;33m\u001b[0m\u001b[0m\n",
      "\u001b[1;32m~\\anaconda3\\lib\\socket.py\u001b[0m in \u001b[0;36mreadinto\u001b[1;34m(self, b)\u001b[0m\n\u001b[0;32m    667\u001b[0m         \u001b[1;32mwhile\u001b[0m \u001b[1;32mTrue\u001b[0m\u001b[1;33m:\u001b[0m\u001b[1;33m\u001b[0m\u001b[1;33m\u001b[0m\u001b[0m\n\u001b[0;32m    668\u001b[0m             \u001b[1;32mtry\u001b[0m\u001b[1;33m:\u001b[0m\u001b[1;33m\u001b[0m\u001b[1;33m\u001b[0m\u001b[0m\n\u001b[1;32m--> 669\u001b[1;33m                 \u001b[1;32mreturn\u001b[0m \u001b[0mself\u001b[0m\u001b[1;33m.\u001b[0m\u001b[0m_sock\u001b[0m\u001b[1;33m.\u001b[0m\u001b[0mrecv_into\u001b[0m\u001b[1;33m(\u001b[0m\u001b[0mb\u001b[0m\u001b[1;33m)\u001b[0m\u001b[1;33m\u001b[0m\u001b[1;33m\u001b[0m\u001b[0m\n\u001b[0m\u001b[0;32m    670\u001b[0m             \u001b[1;32mexcept\u001b[0m \u001b[0mtimeout\u001b[0m\u001b[1;33m:\u001b[0m\u001b[1;33m\u001b[0m\u001b[1;33m\u001b[0m\u001b[0m\n\u001b[0;32m    671\u001b[0m                 \u001b[0mself\u001b[0m\u001b[1;33m.\u001b[0m\u001b[0m_timeout_occurred\u001b[0m \u001b[1;33m=\u001b[0m \u001b[1;32mTrue\u001b[0m\u001b[1;33m\u001b[0m\u001b[1;33m\u001b[0m\u001b[0m\n",
      "\u001b[1;31mKeyboardInterrupt\u001b[0m: "
     ]
    }
   ],
   "source": [
    "for j in range(len(scholars)):\n",
    "    link = scholars[j]\n",
    "    driver.get(link)\n",
    "\n",
    "    mark_complete(driver)\n",
    "\n",
    "    results_list = driver.find_elements_by_xpath(\"//a[@class='gsc_a_at']\")\n",
    "        #results_list[0].click()\n",
    "    #print(len(results_list))\n",
    "    #assert len(results_list) > 0\n",
    "\n",
    "    for x in range(len(results_list)):\n",
    "\n",
    "        # reassign result_list as after first page the dom element is deleted\n",
    "        results_list = driver.find_elements_by_xpath(\"//a[@class='gsc_a_at']\")\n",
    "        page = results_list[x]\n",
    "        #print(x)\n",
    "        time.sleep(2)\n",
    "\n",
    "        page.click()\n",
    "\n",
    "        time.sleep(2)\n",
    "        title = driver.find_element_by_xpath('//a[@class=\"gsc_oci_title_link\"]')\n",
    "        paper_title.append(title.text)\n",
    "\n",
    "        a = driver.find_elements_by_xpath('//td[@class=\"gsc_a_c\"]')\n",
    "\n",
    "        table_id = driver.find_element(By.ID, 'gsc_oci_table')\n",
    "        rows = table_id.find_elements(By.CLASS_NAME, \"gs_scl\") # get all of the rows in the table\n",
    "        test = []\n",
    "        for row in range(len(rows)):       \n",
    "            col = driver.find_elements(By.CLASS_NAME, \"gsc_oci_value\")[row].text\n",
    "            heading = driver.find_elements(By.CLASS_NAME, \"gsc_oci_field\")[row].text\n",
    "\n",
    "            #print(heading)\n",
    "            #test.append(heading)\n",
    "            if heading == 'Authors':\n",
    "                authors.append(col)\n",
    "            elif heading == 'Publication date':\n",
    "                #y = col.split('/')\n",
    "                date.append(col[0:4])\n",
    "            elif heading == 'Conference':\n",
    "                conference.append(col)\n",
    "            elif heading == 'Journal':\n",
    "                journal.append(col)\n",
    "            elif heading == 'Publisher':\n",
    "                publisher.append(col)\n",
    "            elif heading == 'Description':\n",
    "                abstract.append(col)\n",
    "            elif heading == 'Total citations':\n",
    "                tot = col.split()\n",
    "                citation.append(tot[2])\n",
    "\n",
    "            #print(col.text)       \n",
    "            #driver.find_element(By.ID, \"gs_hdr_bck\").click()\n",
    "        if 'Publisher' not in test:\n",
    "            publisher.append('Unknown')\n",
    "\n",
    "        if 'Conference' not in test:\n",
    "            conference.append('Unknown')\n",
    "\n",
    "        if 'Publication date' not in test:\n",
    "            date.append('Unknown')\n",
    "\n",
    "        if 'Journal' not in test:\n",
    "            journal.append('Unknown')\n",
    "            \n",
    "        if 'Description' not in test:\n",
    "            abstract.append('Unknown')\n",
    "            \n",
    "        if 'Total citations' not in test:\n",
    "            citation.append('Unknown')\n",
    "\n",
    "        driver.back()\n",
    "        #button.click()\n",
    "        #print(\"Element is visible? \" + str(button.is_displayed()))\n"
   ]
  },
  {
   "cell_type": "code",
   "execution_count": 148,
   "id": "d6641969",
   "metadata": {},
   "outputs": [
    {
     "data": {
      "text/plain": [
       "[]"
      ]
     },
     "execution_count": 148,
     "metadata": {},
     "output_type": "execute_result"
    }
   ],
   "source": [
    "table_id = driver.find_element(By.ID, 'gsc_oci_table')\n",
    "rows = table_id.find_elements(By.CLASS_NAME, \"gs_scl\") # get all of the rows in the table\n",
    "    for row in rows:\n",
    "    # Get the columns (all the column 2)        \n",
    "    col = row.find_elements(By.CLASS_NAME, \"gsc_oci_value\")[row] #note: index start from 0, 1 is col 2\n",
    "    print col.text"
   ]
  },
  {
   "cell_type": "code",
   "execution_count": 323,
   "id": "6c6b4388",
   "metadata": {},
   "outputs": [
    {
     "data": {
      "text/plain": [
       "['Evaluation campaigns and TRECVid',\n",
       " 'TRECVID 2013--An overview of the goals, tasks, data, evaluation mechanisms, and metrics',\n",
       " 'TRECVid 2011 - An overview of the goals, tasks, data, evaluation mechanisms and metrics',\n",
       " 'Efficient cube construction for smart city data',\n",
       " 'Generating cubes from smart city web data',\n",
       " 'Automating Data Mart Construction from Semi-structured Data Sources',\n",
       " 'Predicting customer churn for insurance data']"
      ]
     },
     "execution_count": 323,
     "metadata": {},
     "output_type": "execute_result"
    }
   ],
   "source": [
    "paper_title"
   ]
  },
  {
   "cell_type": "code",
   "execution_count": 235,
   "id": "ea625b71",
   "metadata": {},
   "outputs": [
    {
     "name": "stderr",
     "output_type": "stream",
     "text": [
      "<ipython-input-140-42747ca9174f>:3: DeprecationWarning: find_element_by_* commands are deprecated. Please use find_element() instead\n",
      "  mark_complete = self.find_element_by_xpath('//button[@id=\"gsc_bpf_more\"]')\n",
      "<ipython-input-235-e3358b500358>:7: DeprecationWarning: find_elements_by_* commands are deprecated. Please use find_elements() instead\n",
      "  results_list = driver.find_elements_by_xpath(\"//a[@class='gsc_a_at']\")\n",
      "<ipython-input-235-e3358b500358>:10: DeprecationWarning: find_elements_by_* commands are deprecated. Please use find_elements() instead\n",
      "  results_list = driver.find_elements_by_xpath(\"//a[@class='gsc_a_at']\")\n"
     ]
    },
    {
     "name": "stdout",
     "output_type": "stream",
     "text": [
      "20\n"
     ]
    }
   ],
   "source": [
    "link = \"https://scholar.google.com/citations?view_op=list_works&hl=en&hl=en&user=o7xnW2MAAAAJ\"\n",
    "driver.get(link)\n",
    "\n",
    "mark_complete(driver)\n",
    "\n",
    "    #time.sleep(4 + random.uniform(0,5))\n",
    "results_list = driver.find_elements_by_xpath(\"//a[@class='gsc_a_at']\")\n",
    "results_list[0].click()\n",
    "driver.back()\n",
    "results_list = driver.find_elements_by_xpath(\"//a[@class='gsc_a_at']\")\n",
    "time.sleep(20)\n",
    "results_list[1].click()\n",
    "print(len(results_list))\n",
    "assert len(results_list) > 0"
   ]
  },
  {
   "cell_type": "code",
   "execution_count": 324,
   "id": "9fada0a2",
   "metadata": {},
   "outputs": [
    {
     "data": {
      "text/plain": [
       "['Alan F Smeaton, Paul Over, Wessel Kraaij',\n",
       " 'Paul D Over, Jonathan G Fiscus, Gregory A Sanders, David M Joy, Martial Michel, George M Awad, Alan Smeaton, Wessel Kraaij, Georges Quénot',\n",
       " 'Paul Over, George Awad, Jon Fiscus, Brian Antonishek, Martial Michel, Alan F Smeaton, Wessel Kraaij, Georges Quénot',\n",
       " 'Michael Scriney, Mark Roantree',\n",
       " \"Michael Scriney, Martin F O'Connor, Mark Roantree\",\n",
       " 'Michael Scriney, Suzanne McCarthy, Andrew McCarren, Paolo Cappellari, Mark Roantree']"
      ]
     },
     "execution_count": 324,
     "metadata": {},
     "output_type": "execute_result"
    }
   ],
   "source": [
    "authors"
   ]
  },
  {
   "cell_type": "code",
   "execution_count": 325,
   "id": "270d5c3d",
   "metadata": {},
   "outputs": [
    {
     "data": {
      "text/plain": [
       "['1546', '718', '718', '10', '7', '6']"
      ]
     },
     "execution_count": 325,
     "metadata": {},
     "output_type": "execute_result"
    }
   ],
   "source": [
    "citation"
   ]
  },
  {
   "cell_type": "code",
   "execution_count": 326,
   "id": "db80e4e4",
   "metadata": {},
   "outputs": [
    {
     "data": {
      "text/plain": [
       "['ACM',\n",
       " 'Unknown',\n",
       " 'National Insititute of Standards and Technology',\n",
       " 'CEUR-WS. org',\n",
       " 'ACM',\n",
       " 'Oxford University Press']"
      ]
     },
     "execution_count": 326,
     "metadata": {},
     "output_type": "execute_result"
    }
   ],
   "source": [
    "publisher"
   ]
  },
  {
   "cell_type": "code",
   "execution_count": 327,
   "id": "d2332f60",
   "metadata": {},
   "outputs": [
    {
     "data": {
      "text/plain": [
       "['Proceedings of the 8th ACM international workshop on Multimedia information retrieval',\n",
       " 'Unknown',\n",
       " 'The TRECVid Workshop',\n",
       " 'Unknown',\n",
       " 'Proceedings of the Australasian Computer Science Week Multiconference',\n",
       " 'Unknown']"
      ]
     },
     "execution_count": 327,
     "metadata": {},
     "output_type": "execute_result"
    }
   ],
   "source": [
    "conference"
   ]
  },
  {
   "cell_type": "code",
   "execution_count": 328,
   "id": "d8c74550",
   "metadata": {},
   "outputs": [
    {
     "data": {
      "text/plain": [
       "['2006', '2014', '2011', '2016', '2017', '2018']"
      ]
     },
     "execution_count": 328,
     "metadata": {},
     "output_type": "execute_result"
    }
   ],
   "source": [
    "date"
   ]
  },
  {
   "cell_type": "code",
   "execution_count": 329,
   "id": "4b2f07b7",
   "metadata": {},
   "outputs": [
    {
     "data": {
      "text/plain": [
       "['Unknown',\n",
       " 'TRECVID Publications Home',\n",
       " 'Unknown',\n",
       " 'Unknown',\n",
       " 'Unknown',\n",
       " 'The Computer Journal']"
      ]
     },
     "execution_count": 329,
     "metadata": {},
     "output_type": "execute_result"
    }
   ],
   "source": [
    "journal"
   ]
  },
  {
   "cell_type": "code",
   "execution_count": null,
   "id": "d8525366",
   "metadata": {},
   "outputs": [],
   "source": []
  }
 ],
 "metadata": {
  "kernelspec": {
   "display_name": "Python 3",
   "language": "python",
   "name": "python3"
  },
  "language_info": {
   "codemirror_mode": {
    "name": "ipython",
    "version": 3
   },
   "file_extension": ".py",
   "mimetype": "text/x-python",
   "name": "python",
   "nbconvert_exporter": "python",
   "pygments_lexer": "ipython3",
   "version": "3.8.8"
  }
 },
 "nbformat": 4,
 "nbformat_minor": 5
}
