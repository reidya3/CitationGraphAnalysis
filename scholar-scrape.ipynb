{
 "cells": [
  {
   "cell_type": "code",
   "execution_count": 1,
   "id": "0edd6630",
   "metadata": {},
   "outputs": [
    {
     "name": "stderr",
     "output_type": "stream",
     "text": [
      "\n",
      "\n",
      "====== WebDriver manager ======\n",
      "Current google-chrome version is 95.0.4638\n",
      "Get LATEST chromedriver version for 95.0.4638 google-chrome\n",
      "Driver [C:\\Users\\user\\.wdm\\drivers\\chromedriver\\win32\\95.0.4638.69\\chromedriver.exe] found in cache\n",
      "<ipython-input-1-3aee05df7858>:25: DeprecationWarning: executable_path has been deprecated, please pass in a Service object\n",
      "  driver = webdriver.Chrome(ChromeDriverManager().install())\n"
     ]
    }
   ],
   "source": [
    "import pandas as pd\n",
    "import numpy as np\n",
    "\n",
    "from selenium import webdriver\n",
    "from selenium.webdriver.common.keys import Keys\n",
    "import pandas as pd\n",
    "import wget\n",
    "\n",
    "from webdriver_manager.chrome import ChromeDriverManager\n",
    "\n",
    "from selenium import webdriver\n",
    "from selenium.webdriver.common.keys import Keys\n",
    "from selenium.common.exceptions import TimeoutException\n",
    "from selenium.webdriver.remote.webelement import WebElement\n",
    "import selenium.webdriver.support.ui as ui\n",
    "import selenium.webdriver.support.expected_conditions as EC\n",
    "import time\n",
    "import os\n",
    "import pandas as pd\n",
    "import random\n",
    "from selenium.webdriver.support.ui import WebDriverWait\n",
    "from selenium.webdriver.common.by import By\n",
    "from bs4 import BeautifulSoup\n",
    "\n",
    "driver = webdriver.Chrome(ChromeDriverManager().install())"
   ]
  },
  {
   "cell_type": "code",
   "execution_count": 2,
   "id": "1927c4ac",
   "metadata": {},
   "outputs": [],
   "source": [
    "scholars=[\n",
    "'https://scholar.google.com/citations?user=VexgHMQAAAAJ&hl=en&oi=ao',\n",
    "'https://scholar.google.com/citations?user=032sCkEAAAAJ&hl=en&oi=ao',\n",
    "'https://scholar.google.com/citations?user=37nnKncAAAAJ&hl=en&oi=ao',\n",
    "'https://scholar.google.com/citations?user=5W07oMIAAAAJ&hl=en&oi=ao',\n",
    "'https://scholar.google.com/citations?user=FWR33eAAAAAJ&hl=en&oi=ao',\n",
    "'https://scholar.google.com/citations?user=aI-bwLgAAAAJ&hl=en&oi=ao',\n",
    "'https://scholar.google.com/citations?user=gZ4MTA8AAAAJ&hl=en&oi=sra',\n",
    "'https://scholar.google.com/citations?user=VwafmG0AAAAJ&hl=en&oi=ao#',\n",
    "'https://scholar.google.com/citations?user=UhNLg7kAAAAJ&hl=en&oi=sra',\n",
    "'https://scholar.google.com/citations?user=Y6TTxycAAAAJ&hl=en&oi=ao',\n",
    "'https://scholar.google.com/citations?user=qYxtpJcAAAAJ&hl=en&oi=ao',\n",
    "'https://scholar.google.com/citations?user=SC2xBNwAAAAJ&hl=en&oi=ao',\n",
    "'https://scholar.google.com/citations?hl=en&user=_iRbvFYAAAAJ',\n",
    "'https://scholar.google.com/citations?hl=en&user=NSm2hJMAAAAJ',\n",
    "'https://scholar.google.com/citations?hl=en&user=0NAvG3UAAAAJ',\n",
    "'https://scholar.google.com/citations?hl=en&user=Iv3WtrsAAAAJ',\n",
    "'https://scholar.google.com/citations?user=r59BzegAAAAJ&hl=en&oi=ao',\n",
    "'https://scholar.google.com/citations?user=YJuN_H8AAAAJ&hl=en&oi=ao',\n",
    "'https://scholar.google.com/citations?hl=en&user=IjXu9IwAAAAJ',\n",
    "'https://scholar.google.com/citations?hl=en&user=Nt3luwkAAAAJ',\n",
    "'https://scholar.google.com/citations?hl=en&user=XmvJNG8AAAAJ',\n",
    "'https://scholar.google.com/citations?hl=en&user=L6sxj4cAAAAJ',\n",
    "'https://scholar.google.com/citations?user=ZkQuEgMAAAAJ&hl=en&oi=ao',\n",
    "'https://scholar.google.com/citations?user=GegQbH4AAAAJ&hl=en&oi=ao',\n",
    "'https://scholar.google.com/citations?user=MI_tlpIAAAAJ&hl=en&oi=ao',\n",
    "'https://scholar.google.com/citations?user=Ootl1HQAAAAJ&hl=en&oi=sra',\n",
    "'https://scholar.google.com/citations?hl=en&user=5BagDNgAAAAJ',\n",
    "'https://scholar.google.com/citations?hl=en&user=_oD5KVgAAAAJ',\n",
    "'https://scholar.google.com/citations?hl=en&user=o7xnW2MAAAAJ',\n",
    "'https://scholar.google.com/citations?user=yjTWSAEAAAAJ&hl=en&oi=ao',\n",
    "'https://scholar.google.com/citations?user=d-G6EqsAAAAJ&hl=en&oi=ao',\n",
    "'https://scholar.google.com/citations?hl=en&user=kT3yQwoAAAAJ',\n",
    "'https://scholar.google.com/citations?user=ToA74GEAAAAJ&hl=en&oi=ao',\n",
    "'https://scholar.google.com/citations?user=DXgY_xYAAAAJ&hl=en&oi=ao',\n",
    "'https://scholar.google.com/citations?user=dL7lCKUAAAAJ&hl=en&oi=ao',\n",
    "'https://scholar.google.com/citations?user=YLwnsbUAAAAJ&hl=en&oi=ao',\n",
    "'https://scholar.google.com/citations?user=S7J_GYAAAAAJ&hl=en&oi=ao',\n",
    "]"
   ]
  },
  {
   "cell_type": "code",
   "execution_count": 10,
   "id": "76ca9a26",
   "metadata": {},
   "outputs": [],
   "source": [
    "names = []\n",
    "pos = []"
   ]
  },
  {
   "cell_type": "code",
   "execution_count": 12,
   "id": "eb9e581d",
   "metadata": {},
   "outputs": [
    {
     "name": "stderr",
     "output_type": "stream",
     "text": [
      "<ipython-input-12-fa8b26d2dabe>:6: DeprecationWarning: find_elements_by_* commands are deprecated. Please use find_elements() instead\n",
      "  name = driver.find_elements_by_xpath('//div[@id=\"gsc_prf_in\"]')\n",
      "<ipython-input-12-fa8b26d2dabe>:7: DeprecationWarning: find_elements_by_* commands are deprecated. Please use find_elements() instead\n",
      "  position = driver.find_elements_by_xpath('//div[@class=\"gsc_prf_il\"]')\n"
     ]
    }
   ],
   "source": [
    "for i in range(len(scholars)):    \n",
    "    link = scholars[i]\n",
    "    #print(link)\n",
    "    driver.get(link)\n",
    "    time.sleep(4 + random.uniform(0,10))\n",
    "    name = driver.find_elements_by_xpath('//div[@id=\"gsc_prf_in\"]')\n",
    "    position = driver.find_elements_by_xpath('//div[@class=\"gsc_prf_il\"]')\n",
    "    #est = driver.find_elements_by_xpath('//span[@class=\"hp-datum__value\"]')\n",
    "\n",
    "    for s in range(len(name)):\n",
    "        names.append(name[s].text)\n",
    "        pos.append(position[s].text)\n",
    "\n",
    "    #for s in range(len(position)):\n",
    "        #pos.append(position[s].text)\n",
    "\n",
    "#    for s in range(len(est)):\n",
    "#        estimate.append(est[s].text)\n",
    "        "
   ]
  },
  {
   "cell_type": "code",
   "execution_count": 16,
   "id": "63ccd78c",
   "metadata": {},
   "outputs": [],
   "source": [
    "df = pd.DataFrame()\n",
    "df['Researcher'] = names\n",
    "df['Position'] = pos"
   ]
  },
  {
   "cell_type": "code",
   "execution_count": 18,
   "id": "efcf2c26",
   "metadata": {},
   "outputs": [],
   "source": [
    "df.replace({'Researcher':{'Alan F. Smeaton MRIA FIEEE':'Alan F. Smeaton', 'Murat YILMAZ': 'Murat Yilmaz'}}, inplace = True)"
   ]
  },
  {
   "cell_type": "code",
   "execution_count": 19,
   "id": "421eb28b",
   "metadata": {},
   "outputs": [
    {
     "data": {
      "text/html": [
       "<div>\n",
       "<style scoped>\n",
       "    .dataframe tbody tr th:only-of-type {\n",
       "        vertical-align: middle;\n",
       "    }\n",
       "\n",
       "    .dataframe tbody tr th {\n",
       "        vertical-align: top;\n",
       "    }\n",
       "\n",
       "    .dataframe thead th {\n",
       "        text-align: right;\n",
       "    }\n",
       "</style>\n",
       "<table border=\"1\" class=\"dataframe\">\n",
       "  <thead>\n",
       "    <tr style=\"text-align: right;\">\n",
       "      <th></th>\n",
       "      <th>Researcher</th>\n",
       "      <th>Position</th>\n",
       "    </tr>\n",
       "  </thead>\n",
       "  <tbody>\n",
       "    <tr>\n",
       "      <th>0</th>\n",
       "      <td>Michael Scriney</td>\n",
       "      <td>Insight Centre for Data Analytics</td>\n",
       "    </tr>\n",
       "    <tr>\n",
       "      <th>1</th>\n",
       "      <td>Malika Bendechache</td>\n",
       "      <td>School of Computing, Dublin City University (DCU)</td>\n",
       "    </tr>\n",
       "    <tr>\n",
       "      <th>2</th>\n",
       "      <td>Marija Bezbradica</td>\n",
       "      <td>Lecturer, School of Computing, Dublin City Uni...</td>\n",
       "    </tr>\n",
       "    <tr>\n",
       "      <th>3</th>\n",
       "      <td>Rob Brennan</td>\n",
       "      <td>Assistant Professor, School of Computing, Dubl...</td>\n",
       "    </tr>\n",
       "    <tr>\n",
       "      <th>4</th>\n",
       "      <td>Annalina Caputo</td>\n",
       "      <td>Assistant Professor, Dublin City University, A...</td>\n",
       "    </tr>\n",
       "    <tr>\n",
       "      <th>5</th>\n",
       "      <td>Long Cheng</td>\n",
       "      <td>Professor, North China Electric Power University</td>\n",
       "    </tr>\n",
       "    <tr>\n",
       "      <th>6</th>\n",
       "      <td>Paul Clarke</td>\n",
       "      <td>Associate Professor at Dublin City University ...</td>\n",
       "    </tr>\n",
       "    <tr>\n",
       "      <th>7</th>\n",
       "      <td>Martin Crane</td>\n",
       "      <td>School of Computing, Dublin City University</td>\n",
       "    </tr>\n",
       "    <tr>\n",
       "      <th>8</th>\n",
       "      <td>Charlie Daly</td>\n",
       "      <td>Lecturer in Computer Science</td>\n",
       "    </tr>\n",
       "    <tr>\n",
       "      <th>9</th>\n",
       "      <td>Brian Davis</td>\n",
       "      <td>Assistant Professor, School of Computing, Dubl...</td>\n",
       "    </tr>\n",
       "    <tr>\n",
       "      <th>10</th>\n",
       "      <td>Donal Fitzpatrick</td>\n",
       "      <td>Lecturer, School of Computing, Dublin City Uni...</td>\n",
       "    </tr>\n",
       "    <tr>\n",
       "      <th>11</th>\n",
       "      <td>Jennifer Foster</td>\n",
       "      <td>School of Computing, Dublin City University</td>\n",
       "    </tr>\n",
       "    <tr>\n",
       "      <th>12</th>\n",
       "      <td>Yvette Graham</td>\n",
       "      <td>Assistant Professor, Trinity College Dublin</td>\n",
       "    </tr>\n",
       "    <tr>\n",
       "      <th>13</th>\n",
       "      <td>Cathal Gurrin</td>\n",
       "      <td>School of Computing, Dublin City University &amp; ...</td>\n",
       "    </tr>\n",
       "    <tr>\n",
       "      <th>14</th>\n",
       "      <td>Geoffrey Hamilton</td>\n",
       "      <td>Associate Professor, Dublin City University</td>\n",
       "    </tr>\n",
       "    <tr>\n",
       "      <th>15</th>\n",
       "      <td>Graham Healy</td>\n",
       "      <td>Assistant Professor, Dublin City University</td>\n",
       "    </tr>\n",
       "    <tr>\n",
       "      <th>16</th>\n",
       "      <td>Musfira Jilani</td>\n",
       "      <td>School of Computer Science, Dublin City Univer...</td>\n",
       "    </tr>\n",
       "    <tr>\n",
       "      <th>17</th>\n",
       "      <td>Gareth J. F. Jones</td>\n",
       "      <td>Dublin City University</td>\n",
       "    </tr>\n",
       "    <tr>\n",
       "      <th>18</th>\n",
       "      <td>Suzanne Little</td>\n",
       "      <td>School of Computing, Dublin City University</td>\n",
       "    </tr>\n",
       "    <tr>\n",
       "      <th>19</th>\n",
       "      <td>Silvana Togneri MacMahon</td>\n",
       "      <td>Dublin City University</td>\n",
       "    </tr>\n",
       "    <tr>\n",
       "      <th>20</th>\n",
       "      <td>Andrew McCarren</td>\n",
       "      <td>School of Computer Science, Dublin City Univer...</td>\n",
       "    </tr>\n",
       "    <tr>\n",
       "      <th>21</th>\n",
       "      <td>John McKenna</td>\n",
       "      <td>School of Computing, Dublin City University</td>\n",
       "    </tr>\n",
       "    <tr>\n",
       "      <th>22</th>\n",
       "      <td>Alessandra Mileo</td>\n",
       "      <td>Dublin City University</td>\n",
       "    </tr>\n",
       "    <tr>\n",
       "      <th>23</th>\n",
       "      <td>Darragh O'Brien</td>\n",
       "      <td>Dublin City University</td>\n",
       "    </tr>\n",
       "    <tr>\n",
       "      <th>24</th>\n",
       "      <td>Mark Roantree</td>\n",
       "      <td>School of Computing, Dublin City University</td>\n",
       "    </tr>\n",
       "    <tr>\n",
       "      <th>25</th>\n",
       "      <td>Heather Ruskin</td>\n",
       "      <td>Dublin City University Professor Emeritus Comp...</td>\n",
       "    </tr>\n",
       "    <tr>\n",
       "      <th>26</th>\n",
       "      <td>Dimitar Shterionov</td>\n",
       "      <td>Tilburg University</td>\n",
       "    </tr>\n",
       "    <tr>\n",
       "      <th>27</th>\n",
       "      <td>David Sinclair</td>\n",
       "      <td>School of Computing, Lero, Dublin City University</td>\n",
       "    </tr>\n",
       "    <tr>\n",
       "      <th>28</th>\n",
       "      <td>Alan F. Smeaton</td>\n",
       "      <td>Prof of Computing / Founding Director, Insight...</td>\n",
       "    </tr>\n",
       "    <tr>\n",
       "      <th>29</th>\n",
       "      <td>Alistair Sutherland</td>\n",
       "      <td>School of Computing, Dublin City University</td>\n",
       "    </tr>\n",
       "    <tr>\n",
       "      <th>30</th>\n",
       "      <td>Irina Tal</td>\n",
       "      <td>Dublin City University</td>\n",
       "    </tr>\n",
       "    <tr>\n",
       "      <th>31</th>\n",
       "      <td>Jagadeeswaran Thangaraj</td>\n",
       "      <td>Dublin City University, Dublin, Ireland</td>\n",
       "    </tr>\n",
       "    <tr>\n",
       "      <th>32</th>\n",
       "      <td>Ray Walshe</td>\n",
       "      <td>Dublin City University</td>\n",
       "    </tr>\n",
       "    <tr>\n",
       "      <th>33</th>\n",
       "      <td>Monica Ward</td>\n",
       "      <td>Dublin City University</td>\n",
       "    </tr>\n",
       "    <tr>\n",
       "      <th>34</th>\n",
       "      <td>Tomas Ward</td>\n",
       "      <td>Insight SFI Research Centre for Data Analytics...</td>\n",
       "    </tr>\n",
       "    <tr>\n",
       "      <th>35</th>\n",
       "      <td>Andy Way</td>\n",
       "      <td>ADAPT Centre, Dublin City University</td>\n",
       "    </tr>\n",
       "    <tr>\n",
       "      <th>36</th>\n",
       "      <td>Murat Yilmaz</td>\n",
       "      <td>Associate Professor, Dept. of Computer Enginee...</td>\n",
       "    </tr>\n",
       "  </tbody>\n",
       "</table>\n",
       "</div>"
      ],
      "text/plain": [
       "                  Researcher  \\\n",
       "0            Michael Scriney   \n",
       "1         Malika Bendechache   \n",
       "2          Marija Bezbradica   \n",
       "3                Rob Brennan   \n",
       "4            Annalina Caputo   \n",
       "5                 Long Cheng   \n",
       "6                Paul Clarke   \n",
       "7               Martin Crane   \n",
       "8               Charlie Daly   \n",
       "9                Brian Davis   \n",
       "10         Donal Fitzpatrick   \n",
       "11           Jennifer Foster   \n",
       "12             Yvette Graham   \n",
       "13             Cathal Gurrin   \n",
       "14         Geoffrey Hamilton   \n",
       "15              Graham Healy   \n",
       "16            Musfira Jilani   \n",
       "17        Gareth J. F. Jones   \n",
       "18            Suzanne Little   \n",
       "19  Silvana Togneri MacMahon   \n",
       "20           Andrew McCarren   \n",
       "21              John McKenna   \n",
       "22          Alessandra Mileo   \n",
       "23           Darragh O'Brien   \n",
       "24             Mark Roantree   \n",
       "25            Heather Ruskin   \n",
       "26        Dimitar Shterionov   \n",
       "27            David Sinclair   \n",
       "28           Alan F. Smeaton   \n",
       "29       Alistair Sutherland   \n",
       "30                 Irina Tal   \n",
       "31   Jagadeeswaran Thangaraj   \n",
       "32                Ray Walshe   \n",
       "33               Monica Ward   \n",
       "34                Tomas Ward   \n",
       "35                  Andy Way   \n",
       "36              Murat Yilmaz   \n",
       "\n",
       "                                             Position  \n",
       "0                   Insight Centre for Data Analytics  \n",
       "1   School of Computing, Dublin City University (DCU)  \n",
       "2   Lecturer, School of Computing, Dublin City Uni...  \n",
       "3   Assistant Professor, School of Computing, Dubl...  \n",
       "4   Assistant Professor, Dublin City University, A...  \n",
       "5    Professor, North China Electric Power University  \n",
       "6   Associate Professor at Dublin City University ...  \n",
       "7         School of Computing, Dublin City University  \n",
       "8                        Lecturer in Computer Science  \n",
       "9   Assistant Professor, School of Computing, Dubl...  \n",
       "10  Lecturer, School of Computing, Dublin City Uni...  \n",
       "11        School of Computing, Dublin City University  \n",
       "12        Assistant Professor, Trinity College Dublin  \n",
       "13  School of Computing, Dublin City University & ...  \n",
       "14        Associate Professor, Dublin City University  \n",
       "15        Assistant Professor, Dublin City University  \n",
       "16  School of Computer Science, Dublin City Univer...  \n",
       "17                             Dublin City University  \n",
       "18        School of Computing, Dublin City University  \n",
       "19                             Dublin City University  \n",
       "20  School of Computer Science, Dublin City Univer...  \n",
       "21        School of Computing, Dublin City University  \n",
       "22                             Dublin City University  \n",
       "23                             Dublin City University  \n",
       "24        School of Computing, Dublin City University  \n",
       "25  Dublin City University Professor Emeritus Comp...  \n",
       "26                                 Tilburg University  \n",
       "27  School of Computing, Lero, Dublin City University  \n",
       "28  Prof of Computing / Founding Director, Insight...  \n",
       "29        School of Computing, Dublin City University  \n",
       "30                             Dublin City University  \n",
       "31            Dublin City University, Dublin, Ireland  \n",
       "32                             Dublin City University  \n",
       "33                             Dublin City University  \n",
       "34  Insight SFI Research Centre for Data Analytics...  \n",
       "35               ADAPT Centre, Dublin City University  \n",
       "36  Associate Professor, Dept. of Computer Enginee...  "
      ]
     },
     "execution_count": 19,
     "metadata": {},
     "output_type": "execute_result"
    }
   ],
   "source": [
    "df"
   ]
  },
  {
   "cell_type": "code",
   "execution_count": 290,
   "id": "3101c487",
   "metadata": {},
   "outputs": [],
   "source": [
    "paper_title = []\n",
    "authors = []\n",
    "date = []\n",
    "conference = []\n",
    "publisher = []\n",
    "abstract = []\n",
    "citation = []\n",
    "#year = []"
   ]
  },
  {
   "cell_type": "code",
   "execution_count": 140,
   "id": "8ee3123b",
   "metadata": {},
   "outputs": [],
   "source": [
    "from selenium.common.exceptions import NoSuchElementException\n",
    "def mark_complete(self):\n",
    "    mark_complete = self.find_element_by_xpath('//button[@id=\"gsc_bpf_more\"]')\n",
    "    prop = mark_complete.get_property('disabled')\n",
    "    while prop != True:\n",
    "        try:\n",
    "            mark_complete.click()\n",
    "            time.sleep(4 + random.uniform(0,3))\n",
    "            prop = mark_complete.get_property('disabled')\n",
    "            #print(prop)\n",
    "        except NoSuchElementException:\n",
    "            break"
   ]
  },
  {
   "cell_type": "code",
   "execution_count": 291,
   "id": "8203c015",
   "metadata": {},
   "outputs": [
    {
     "name": "stderr",
     "output_type": "stream",
     "text": [
      "<ipython-input-140-42747ca9174f>:3: DeprecationWarning: find_element_by_* commands are deprecated. Please use find_element() instead\n",
      "  mark_complete = self.find_element_by_xpath('//button[@id=\"gsc_bpf_more\"]')\n",
      "<ipython-input-291-9df10f30cb7f>:8: DeprecationWarning: find_elements_by_* commands are deprecated. Please use find_elements() instead\n",
      "  results_list = driver.find_elements_by_xpath(\"//a[@class='gsc_a_at']\")\n",
      "<ipython-input-291-9df10f30cb7f>:16: DeprecationWarning: find_elements_by_* commands are deprecated. Please use find_elements() instead\n",
      "  results_list = driver.find_elements_by_xpath(\"//a[@class='gsc_a_at']\")\n"
     ]
    },
    {
     "name": "stdout",
     "output_type": "stream",
     "text": [
      "797\n"
     ]
    },
    {
     "name": "stderr",
     "output_type": "stream",
     "text": [
      "<ipython-input-291-9df10f30cb7f>:25: DeprecationWarning: find_element_by_* commands are deprecated. Please use find_element() instead\n",
      "  title = driver.find_element_by_xpath('//a[@class=\"gsc_oci_title_link\"]')\n",
      "<ipython-input-291-9df10f30cb7f>:28: DeprecationWarning: find_elements_by_* commands are deprecated. Please use find_elements() instead\n",
      "  a = driver.find_elements_by_xpath('//td[@class=\"gsc_a_c\"]')\n"
     ]
    },
    {
     "ename": "KeyboardInterrupt",
     "evalue": "",
     "output_type": "error",
     "traceback": [
      "\u001b[1;31m---------------------------------------------------------------------------\u001b[0m",
      "\u001b[1;31mKeyboardInterrupt\u001b[0m                         Traceback (most recent call last)",
      "\u001b[1;32m<ipython-input-291-9df10f30cb7f>\u001b[0m in \u001b[0;36m<module>\u001b[1;34m\u001b[0m\n\u001b[0;32m     18\u001b[0m         \u001b[1;31m#print(x)\u001b[0m\u001b[1;33m\u001b[0m\u001b[1;33m\u001b[0m\u001b[1;33m\u001b[0m\u001b[0m\n\u001b[0;32m     19\u001b[0m         \u001b[1;31m#element = wait.until(EC.element_to_be_clickable((By.ID, 'someid')))\u001b[0m\u001b[1;33m\u001b[0m\u001b[1;33m\u001b[0m\u001b[1;33m\u001b[0m\u001b[0m\n\u001b[1;32m---> 20\u001b[1;33m     \u001b[0mtime\u001b[0m\u001b[1;33m.\u001b[0m\u001b[0msleep\u001b[0m\u001b[1;33m(\u001b[0m\u001b[1;36m4\u001b[0m\u001b[1;33m)\u001b[0m\u001b[1;33m\u001b[0m\u001b[1;33m\u001b[0m\u001b[0m\n\u001b[0m\u001b[0;32m     21\u001b[0m \u001b[1;33m\u001b[0m\u001b[0m\n\u001b[0;32m     22\u001b[0m     \u001b[0mpage\u001b[0m\u001b[1;33m.\u001b[0m\u001b[0mclick\u001b[0m\u001b[1;33m(\u001b[0m\u001b[1;33m)\u001b[0m\u001b[1;33m\u001b[0m\u001b[1;33m\u001b[0m\u001b[0m\n",
      "\u001b[1;31mKeyboardInterrupt\u001b[0m: "
     ]
    }
   ],
   "source": [
    "#test\n",
    "link = \"https://scholar.google.com/citations?view_op=list_works&hl=en&hl=en&user=o7xnW2MAAAAJ\"\n",
    "driver.get(link)\n",
    "\n",
    "mark_complete(driver)\n",
    "\n",
    "    #time.sleep(4 + random.uniform(0,5))\n",
    "results_list = driver.find_elements_by_xpath(\"//a[@class='gsc_a_at']\")\n",
    "    #results_list[0].click()\n",
    "print(len(results_list))\n",
    "assert len(results_list) > 0\n",
    "\n",
    "#for x in range(len(results_list)):\n",
    "for x in range(len(results_list)):\n",
    "\n",
    "    results_list = driver.find_elements_by_xpath(\"//a[@class='gsc_a_at']\")\n",
    "    page = results_list[x]\n",
    "        #print(x)\n",
    "        #element = wait.until(EC.element_to_be_clickable((By.ID, 'someid')))\n",
    "    time.sleep(4)\n",
    "\n",
    "    page.click()\n",
    "\n",
    "    time.sleep(2)\n",
    "    title = driver.find_element_by_xpath('//a[@class=\"gsc_oci_title_link\"]')\n",
    "    paper_title.append(title.text)\n",
    "\n",
    "    a = driver.find_elements_by_xpath('//td[@class=\"gsc_a_c\"]')\n",
    "\n",
    "    table_id = driver.find_element(By.ID, 'gsc_oci_table')\n",
    "    rows = table_id.find_elements(By.CLASS_NAME, \"gs_scl\") # get all of the rows in the table\n",
    "    #test = []\n",
    "    for row in range(len(rows)):       \n",
    "        col = driver.find_elements(By.CLASS_NAME, \"gsc_oci_value\")[row].text\n",
    "        heading = driver.find_elements(By.CLASS_NAME, \"gsc_oci_field\")[row].text\n",
    "        #test.append(heading)\n",
    "        #headings = driver.find_elements(By.CLASS_NAME, \"gsc_oci_field\")\n",
    "        #print(headings)\n",
    "        if heading == 'Authors':\n",
    "            authors.append(col)\n",
    "        elif heading == 'Publication date':\n",
    "            #y = col.split('/')\n",
    "            date.append(col[0:4])\n",
    "        elif heading == 'Conference' or heading == 'Journal':\n",
    "            conference.append(col)\n",
    "        elif heading == 'Publisher':\n",
    "            publisher.append(col)\n",
    "        elif heading == 'Description':\n",
    "            abstract.append(col)\n",
    "        elif heading == 'Total citations':\n",
    "            tot = col.split()\n",
    "            citation.append(tot[2])\n",
    "        #print(col.text)       \n",
    "        #driver.find_element(By.ID, \"gs_hdr_bck\").click()  \n",
    "    driver.back()\n",
    "    #button.click()\n",
    "    #print(\"Element is visible? \" + str(button.is_displayed()))\n",
    "\n",
    "    #print(\"Element is visible? \" + str(button.is_displayed()))\n",
    "    #ActionChains(driver).move_to_element(button).click(button).perform()\n",
    "    #driver.find_element_by_xpath('//a[contains(@href,\"https://scholar.google.com/citations?view_op=list_works&hl=en&hl=en&user=o7xnW2MAAAAJ\")]')\n",
    "\n",
    "    #ActionChains(driver).click(element).perform()\n",
    "        "
   ]
  },
  {
   "cell_type": "code",
   "execution_count": 148,
   "id": "f6a2a2e1",
   "metadata": {},
   "outputs": [
    {
     "data": {
      "text/plain": [
       "[]"
      ]
     },
     "execution_count": 148,
     "metadata": {},
     "output_type": "execute_result"
    }
   ],
   "source": [
    "table_id = driver.find_element(By.ID, 'gsc_oci_table')\n",
    "rows = table_id.find_elements(By.CLASS_NAME, \"gs_scl\") # get all of the rows in the table\n",
    "    for row in rows:\n",
    "    # Get the columns (all the column 2)        \n",
    "    col = row.find_elements(By.CLASS_NAME, \"gsc_oci_value\")[row] #note: index start from 0, 1 is col 2\n",
    "    print col.text"
   ]
  },
  {
   "cell_type": "code",
   "execution_count": null,
   "id": "e9224822",
   "metadata": {},
   "outputs": [],
   "source": [
    "from selenium.common.exceptions import NoSuchElementException        \n",
    "def check_exists_by_xpath(xpath):\n",
    "    try:\n",
    "        driver.find_element_by_xpath()\n",
    "    except NoSuchElementException:\n",
    "        return False\n",
    "    return True"
   ]
  },
  {
   "cell_type": "code",
   "execution_count": 292,
   "id": "e640e814",
   "metadata": {},
   "outputs": [
    {
     "data": {
      "text/plain": [
       "['Evaluation campaigns and TRECVid',\n",
       " 'TRECVID 2013--An overview of the goals, tasks, data, evaluation mechanisms, and metrics',\n",
       " 'TRECVid 2011 - An overview of the goals, tasks, data, evaluation mechanisms and metrics',\n",
       " 'On using Twitter to monitor political sentiment and predict election results']"
      ]
     },
     "execution_count": 292,
     "metadata": {},
     "output_type": "execute_result"
    }
   ],
   "source": [
    "paper_title"
   ]
  },
  {
   "cell_type": "code",
   "execution_count": 235,
   "id": "e8ab9946",
   "metadata": {},
   "outputs": [
    {
     "name": "stderr",
     "output_type": "stream",
     "text": [
      "<ipython-input-140-42747ca9174f>:3: DeprecationWarning: find_element_by_* commands are deprecated. Please use find_element() instead\n",
      "  mark_complete = self.find_element_by_xpath('//button[@id=\"gsc_bpf_more\"]')\n",
      "<ipython-input-235-e3358b500358>:7: DeprecationWarning: find_elements_by_* commands are deprecated. Please use find_elements() instead\n",
      "  results_list = driver.find_elements_by_xpath(\"//a[@class='gsc_a_at']\")\n",
      "<ipython-input-235-e3358b500358>:10: DeprecationWarning: find_elements_by_* commands are deprecated. Please use find_elements() instead\n",
      "  results_list = driver.find_elements_by_xpath(\"//a[@class='gsc_a_at']\")\n"
     ]
    },
    {
     "name": "stdout",
     "output_type": "stream",
     "text": [
      "20\n"
     ]
    }
   ],
   "source": [
    "link = \"https://scholar.google.com/citations?view_op=list_works&hl=en&hl=en&user=o7xnW2MAAAAJ\"\n",
    "driver.get(link)\n",
    "\n",
    "mark_complete(driver)\n",
    "\n",
    "    #time.sleep(4 + random.uniform(0,5))\n",
    "results_list = driver.find_elements_by_xpath(\"//a[@class='gsc_a_at']\")\n",
    "results_list[0].click()\n",
    "driver.back()\n",
    "results_list = driver.find_elements_by_xpath(\"//a[@class='gsc_a_at']\")\n",
    "time.sleep(20)\n",
    "results_list[1].click()\n",
    "print(len(results_list))\n",
    "assert len(results_list) > 0"
   ]
  },
  {
   "cell_type": "code",
   "execution_count": 293,
   "id": "3be4b1d3",
   "metadata": {},
   "outputs": [
    {
     "data": {
      "text/plain": [
       "['Alan F Smeaton, Paul Over, Wessel Kraaij',\n",
       " 'Paul D Over, Jonathan G Fiscus, Gregory A Sanders, David M Joy, Martial Michel, George M Awad, Alan Smeaton, Wessel Kraaij, Georges Quénot',\n",
       " 'Paul Over, George Awad, Jon Fiscus, Brian Antonishek, Martial Michel, Alan F Smeaton, Wessel Kraaij, Georges Quénot',\n",
       " 'Adam Bermingham, Alan Smeaton']"
      ]
     },
     "execution_count": 293,
     "metadata": {},
     "output_type": "execute_result"
    }
   ],
   "source": [
    "authors"
   ]
  },
  {
   "cell_type": "code",
   "execution_count": 294,
   "id": "2ff8b280",
   "metadata": {},
   "outputs": [
    {
     "data": {
      "text/plain": [
       "['1546', '718', '718', '484']"
      ]
     },
     "execution_count": 294,
     "metadata": {},
     "output_type": "execute_result"
    }
   ],
   "source": [
    "citation"
   ]
  },
  {
   "cell_type": "code",
   "execution_count": 295,
   "id": "3211f435",
   "metadata": {},
   "outputs": [
    {
     "data": {
      "text/plain": [
       "['ACM', 'National Insititute of Standards and Technology']"
      ]
     },
     "execution_count": 295,
     "metadata": {},
     "output_type": "execute_result"
    }
   ],
   "source": [
    "publisher"
   ]
  },
  {
   "cell_type": "code",
   "execution_count": 296,
   "id": "aa257e20",
   "metadata": {},
   "outputs": [
    {
     "data": {
      "text/plain": [
       "['Proceedings of the 8th ACM international workshop on Multimedia information retrieval',\n",
       " 'TRECVID Publications Home',\n",
       " 'The TRECVid Workshop',\n",
       " 'Proceedings of the Workshop on Sentiment Analysis where AI meets Psychology (SAAIP 2011)']"
      ]
     },
     "execution_count": 296,
     "metadata": {},
     "output_type": "execute_result"
    }
   ],
   "source": [
    "conference"
   ]
  },
  {
   "cell_type": "code",
   "execution_count": 297,
   "id": "27bfea23",
   "metadata": {},
   "outputs": [
    {
     "data": {
      "text/plain": [
       "['2006', '2014', '2011', '2011']"
      ]
     },
     "execution_count": 297,
     "metadata": {},
     "output_type": "execute_result"
    }
   ],
   "source": [
    "date"
   ]
  },
  {
   "cell_type": "code",
   "execution_count": null,
   "id": "985332d1",
   "metadata": {},
   "outputs": [],
   "source": []
  }
 ],
 "metadata": {
  "kernelspec": {
   "display_name": "Python 3",
   "language": "python",
   "name": "python3"
  },
  "language_info": {
   "codemirror_mode": {
    "name": "ipython",
    "version": 3
   },
   "file_extension": ".py",
   "mimetype": "text/x-python",
   "name": "python",
   "nbconvert_exporter": "python",
   "pygments_lexer": "ipython3",
   "version": "3.8.8"
  }
 },
 "nbformat": 4,
 "nbformat_minor": 5
}
